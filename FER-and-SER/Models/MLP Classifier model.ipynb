{
 "cells": [
  {
   "cell_type": "markdown",
   "metadata": {},
   "source": [
    "### Importing Libraries"
   ]
  },
  {
   "cell_type": "code",
   "execution_count": 1,
   "metadata": {},
   "outputs": [
    {
     "name": "stderr",
     "output_type": "stream",
     "text": [
      "Using TensorFlow backend.\n"
     ]
    }
   ],
   "source": [
    "import librosa\n",
    "import soundfile\n",
    "import pandas as pd\n",
    "import os, glob, pickle\n",
    "import numpy as np\n",
    "from sklearn.model_selection import train_test_split\n",
    "from sklearn.neural_network import MLPClassifier\n",
    "from sklearn.metrics import accuracy_score\n",
    "from sklearn.preprocessing import StandardScaler, OneHotEncoder\n",
    "from keras.models import model_from_json\n",
    "from keras.models import load_model\n",
    "from sklearn.metrics import confusion_matrix, classification_report\n",
    "import seaborn as sns\n",
    "import matplotlib.pyplot as plt"
   ]
  },
  {
   "cell_type": "markdown",
   "metadata": {},
   "source": [
    "### Function for extracting features"
   ]
  },
  {
   "cell_type": "code",
   "execution_count": 2,
   "metadata": {},
   "outputs": [],
   "source": [
    "\n",
    "def extract_mfcc(wav_file_name):\n",
    "    y, sr = librosa.load(wav_file_name)\n",
    "    mfccs = np.mean(librosa.feature.mfcc(y=y, sr=sr, n_mfcc=40).T,axis=0)\n",
    "    \n",
    "    return mfccs"
   ]
  },
  {
   "cell_type": "markdown",
   "metadata": {},
   "source": [
    "### Loading dataset"
   ]
  },
  {
   "cell_type": "code",
   "execution_count": 3,
   "metadata": {},
   "outputs": [],
   "source": [
    "radvess_speech_labels = []\n",
    "ravdess_speech_data = [] \n",
    "for dirname, _, filenames in os.walk('F:\\\\107620_256618_bundle_archive\\\\'):\n",
    "    for filename in filenames:\n",
    "        \n",
    "        radvess_speech_labels.append(int(filename[7:8]) - 1)\n",
    "        \n",
    "        wav_file_name = os.path.join(dirname, filename)\n",
    "        ravdess_speech_data.append(extract_mfcc(wav_file_name))"
   ]
  },
  {
   "cell_type": "code",
   "execution_count": 4,
   "metadata": {},
   "outputs": [
    {
     "name": "stdout",
     "output_type": "stream",
     "text": [
      "Finish Loading the Dataset\n"
     ]
    },
    {
     "data": {
      "text/html": [
       "<div>\n",
       "<style scoped>\n",
       "    .dataframe tbody tr th:only-of-type {\n",
       "        vertical-align: middle;\n",
       "    }\n",
       "\n",
       "    .dataframe tbody tr th {\n",
       "        vertical-align: top;\n",
       "    }\n",
       "\n",
       "    .dataframe thead th {\n",
       "        text-align: right;\n",
       "    }\n",
       "</style>\n",
       "<table border=\"1\" class=\"dataframe\">\n",
       "  <thead>\n",
       "    <tr style=\"text-align: right;\">\n",
       "      <th></th>\n",
       "      <th>0</th>\n",
       "      <th>1</th>\n",
       "      <th>2</th>\n",
       "      <th>3</th>\n",
       "      <th>4</th>\n",
       "      <th>5</th>\n",
       "      <th>6</th>\n",
       "      <th>7</th>\n",
       "      <th>8</th>\n",
       "      <th>9</th>\n",
       "      <th>...</th>\n",
       "      <th>31</th>\n",
       "      <th>32</th>\n",
       "      <th>33</th>\n",
       "      <th>34</th>\n",
       "      <th>35</th>\n",
       "      <th>36</th>\n",
       "      <th>37</th>\n",
       "      <th>38</th>\n",
       "      <th>39</th>\n",
       "      <th>Emotions</th>\n",
       "    </tr>\n",
       "  </thead>\n",
       "  <tbody>\n",
       "    <tr>\n",
       "      <td>0</td>\n",
       "      <td>-697.984192</td>\n",
       "      <td>55.228489</td>\n",
       "      <td>0.323863</td>\n",
       "      <td>12.775377</td>\n",
       "      <td>7.396148</td>\n",
       "      <td>0.866224</td>\n",
       "      <td>-3.550276</td>\n",
       "      <td>-2.828331</td>\n",
       "      <td>-11.305533</td>\n",
       "      <td>-2.524927</td>\n",
       "      <td>...</td>\n",
       "      <td>-1.967064</td>\n",
       "      <td>-2.855390</td>\n",
       "      <td>-1.703427</td>\n",
       "      <td>-3.328374</td>\n",
       "      <td>-1.431488</td>\n",
       "      <td>-1.195484</td>\n",
       "      <td>-1.674807</td>\n",
       "      <td>-3.587147</td>\n",
       "      <td>-1.461006</td>\n",
       "      <td>0</td>\n",
       "    </tr>\n",
       "    <tr>\n",
       "      <td>1</td>\n",
       "      <td>-693.069702</td>\n",
       "      <td>55.734570</td>\n",
       "      <td>-1.919739</td>\n",
       "      <td>16.408997</td>\n",
       "      <td>8.449355</td>\n",
       "      <td>0.220736</td>\n",
       "      <td>-1.738342</td>\n",
       "      <td>-4.931291</td>\n",
       "      <td>-11.981820</td>\n",
       "      <td>-0.993780</td>\n",
       "      <td>...</td>\n",
       "      <td>-2.508108</td>\n",
       "      <td>-2.301962</td>\n",
       "      <td>-2.312677</td>\n",
       "      <td>-3.157205</td>\n",
       "      <td>-0.676972</td>\n",
       "      <td>-1.408076</td>\n",
       "      <td>-2.979329</td>\n",
       "      <td>-3.307365</td>\n",
       "      <td>-2.219295</td>\n",
       "      <td>0</td>\n",
       "    </tr>\n",
       "    <tr>\n",
       "      <td>2</td>\n",
       "      <td>-691.770142</td>\n",
       "      <td>58.350647</td>\n",
       "      <td>-0.165160</td>\n",
       "      <td>13.952126</td>\n",
       "      <td>5.053323</td>\n",
       "      <td>1.489326</td>\n",
       "      <td>-2.397429</td>\n",
       "      <td>-5.059065</td>\n",
       "      <td>-10.638003</td>\n",
       "      <td>-3.344197</td>\n",
       "      <td>...</td>\n",
       "      <td>-2.001603</td>\n",
       "      <td>-2.526743</td>\n",
       "      <td>-1.787501</td>\n",
       "      <td>-2.874714</td>\n",
       "      <td>-1.880346</td>\n",
       "      <td>-1.193676</td>\n",
       "      <td>-2.646903</td>\n",
       "      <td>-3.576790</td>\n",
       "      <td>-2.178030</td>\n",
       "      <td>0</td>\n",
       "    </tr>\n",
       "    <tr>\n",
       "      <td>3</td>\n",
       "      <td>-685.237915</td>\n",
       "      <td>56.236691</td>\n",
       "      <td>2.453112</td>\n",
       "      <td>13.566656</td>\n",
       "      <td>6.701949</td>\n",
       "      <td>3.341493</td>\n",
       "      <td>-1.895052</td>\n",
       "      <td>-6.673817</td>\n",
       "      <td>-10.671633</td>\n",
       "      <td>-2.946320</td>\n",
       "      <td>...</td>\n",
       "      <td>-2.010907</td>\n",
       "      <td>-3.006704</td>\n",
       "      <td>-2.649250</td>\n",
       "      <td>-3.361632</td>\n",
       "      <td>-1.357965</td>\n",
       "      <td>-1.057094</td>\n",
       "      <td>-2.373857</td>\n",
       "      <td>-3.516003</td>\n",
       "      <td>-3.311255</td>\n",
       "      <td>0</td>\n",
       "    </tr>\n",
       "    <tr>\n",
       "      <td>4</td>\n",
       "      <td>-727.317932</td>\n",
       "      <td>62.764400</td>\n",
       "      <td>2.751275</td>\n",
       "      <td>15.473256</td>\n",
       "      <td>7.763115</td>\n",
       "      <td>2.330714</td>\n",
       "      <td>-3.641682</td>\n",
       "      <td>-3.367344</td>\n",
       "      <td>-10.113078</td>\n",
       "      <td>-4.470085</td>\n",
       "      <td>...</td>\n",
       "      <td>-1.022449</td>\n",
       "      <td>-2.078944</td>\n",
       "      <td>-2.266737</td>\n",
       "      <td>-1.915980</td>\n",
       "      <td>-0.282572</td>\n",
       "      <td>-1.916051</td>\n",
       "      <td>-1.606609</td>\n",
       "      <td>-3.960974</td>\n",
       "      <td>-2.618362</td>\n",
       "      <td>1</td>\n",
       "    </tr>\n",
       "    <tr>\n",
       "      <td>...</td>\n",
       "      <td>...</td>\n",
       "      <td>...</td>\n",
       "      <td>...</td>\n",
       "      <td>...</td>\n",
       "      <td>...</td>\n",
       "      <td>...</td>\n",
       "      <td>...</td>\n",
       "      <td>...</td>\n",
       "      <td>...</td>\n",
       "      <td>...</td>\n",
       "      <td>...</td>\n",
       "      <td>...</td>\n",
       "      <td>...</td>\n",
       "      <td>...</td>\n",
       "      <td>...</td>\n",
       "      <td>...</td>\n",
       "      <td>...</td>\n",
       "      <td>...</td>\n",
       "      <td>...</td>\n",
       "      <td>...</td>\n",
       "      <td>...</td>\n",
       "    </tr>\n",
       "    <tr>\n",
       "      <td>2875</td>\n",
       "      <td>-586.762634</td>\n",
       "      <td>25.372396</td>\n",
       "      <td>-17.824156</td>\n",
       "      <td>-1.315452</td>\n",
       "      <td>-15.738236</td>\n",
       "      <td>-9.392014</td>\n",
       "      <td>-16.071714</td>\n",
       "      <td>-15.114341</td>\n",
       "      <td>-6.811911</td>\n",
       "      <td>-6.893698</td>\n",
       "      <td>...</td>\n",
       "      <td>1.045612</td>\n",
       "      <td>1.018843</td>\n",
       "      <td>1.047722</td>\n",
       "      <td>-1.751398</td>\n",
       "      <td>-1.265239</td>\n",
       "      <td>-1.941771</td>\n",
       "      <td>-0.216499</td>\n",
       "      <td>-1.095275</td>\n",
       "      <td>0.459222</td>\n",
       "      <td>7</td>\n",
       "    </tr>\n",
       "    <tr>\n",
       "      <td>2876</td>\n",
       "      <td>-532.757446</td>\n",
       "      <td>38.194206</td>\n",
       "      <td>-15.409904</td>\n",
       "      <td>-5.477151</td>\n",
       "      <td>-15.620424</td>\n",
       "      <td>-13.425549</td>\n",
       "      <td>-11.158518</td>\n",
       "      <td>-11.567695</td>\n",
       "      <td>-8.727760</td>\n",
       "      <td>-3.168304</td>\n",
       "      <td>...</td>\n",
       "      <td>-0.043256</td>\n",
       "      <td>-0.907802</td>\n",
       "      <td>0.324583</td>\n",
       "      <td>-0.899907</td>\n",
       "      <td>1.323310</td>\n",
       "      <td>-2.088092</td>\n",
       "      <td>-0.978145</td>\n",
       "      <td>-1.354968</td>\n",
       "      <td>-0.142505</td>\n",
       "      <td>7</td>\n",
       "    </tr>\n",
       "    <tr>\n",
       "      <td>2877</td>\n",
       "      <td>-541.550232</td>\n",
       "      <td>30.086676</td>\n",
       "      <td>-18.491722</td>\n",
       "      <td>-2.648303</td>\n",
       "      <td>-14.771161</td>\n",
       "      <td>-17.068848</td>\n",
       "      <td>-12.715224</td>\n",
       "      <td>-11.865125</td>\n",
       "      <td>-7.334210</td>\n",
       "      <td>-0.318764</td>\n",
       "      <td>...</td>\n",
       "      <td>1.261050</td>\n",
       "      <td>-1.290491</td>\n",
       "      <td>0.098937</td>\n",
       "      <td>-1.128738</td>\n",
       "      <td>1.056421</td>\n",
       "      <td>-1.321505</td>\n",
       "      <td>-0.229303</td>\n",
       "      <td>-1.118261</td>\n",
       "      <td>0.129871</td>\n",
       "      <td>7</td>\n",
       "    </tr>\n",
       "    <tr>\n",
       "      <td>2878</td>\n",
       "      <td>-492.985962</td>\n",
       "      <td>24.425610</td>\n",
       "      <td>-6.565718</td>\n",
       "      <td>2.215220</td>\n",
       "      <td>-11.599139</td>\n",
       "      <td>-4.619690</td>\n",
       "      <td>-10.614051</td>\n",
       "      <td>-8.606992</td>\n",
       "      <td>-1.773706</td>\n",
       "      <td>-4.018751</td>\n",
       "      <td>...</td>\n",
       "      <td>1.149274</td>\n",
       "      <td>-2.025188</td>\n",
       "      <td>0.022709</td>\n",
       "      <td>-1.240849</td>\n",
       "      <td>1.109606</td>\n",
       "      <td>0.100893</td>\n",
       "      <td>1.088784</td>\n",
       "      <td>-1.589957</td>\n",
       "      <td>1.574795</td>\n",
       "      <td>7</td>\n",
       "    </tr>\n",
       "    <tr>\n",
       "      <td>2879</td>\n",
       "      <td>-518.293823</td>\n",
       "      <td>30.043261</td>\n",
       "      <td>-4.414401</td>\n",
       "      <td>-0.645565</td>\n",
       "      <td>-5.760980</td>\n",
       "      <td>-6.644137</td>\n",
       "      <td>-11.744141</td>\n",
       "      <td>-6.214061</td>\n",
       "      <td>-8.602053</td>\n",
       "      <td>-1.564242</td>\n",
       "      <td>...</td>\n",
       "      <td>1.623031</td>\n",
       "      <td>-0.266392</td>\n",
       "      <td>0.872256</td>\n",
       "      <td>0.274007</td>\n",
       "      <td>1.068429</td>\n",
       "      <td>-0.331896</td>\n",
       "      <td>0.038037</td>\n",
       "      <td>-1.992430</td>\n",
       "      <td>0.842118</td>\n",
       "      <td>7</td>\n",
       "    </tr>\n",
       "  </tbody>\n",
       "</table>\n",
       "<p>2880 rows × 41 columns</p>\n",
       "</div>"
      ],
      "text/plain": [
       "               0          1          2          3          4          5  \\\n",
       "0    -697.984192  55.228489   0.323863  12.775377   7.396148   0.866224   \n",
       "1    -693.069702  55.734570  -1.919739  16.408997   8.449355   0.220736   \n",
       "2    -691.770142  58.350647  -0.165160  13.952126   5.053323   1.489326   \n",
       "3    -685.237915  56.236691   2.453112  13.566656   6.701949   3.341493   \n",
       "4    -727.317932  62.764400   2.751275  15.473256   7.763115   2.330714   \n",
       "...          ...        ...        ...        ...        ...        ...   \n",
       "2875 -586.762634  25.372396 -17.824156  -1.315452 -15.738236  -9.392014   \n",
       "2876 -532.757446  38.194206 -15.409904  -5.477151 -15.620424 -13.425549   \n",
       "2877 -541.550232  30.086676 -18.491722  -2.648303 -14.771161 -17.068848   \n",
       "2878 -492.985962  24.425610  -6.565718   2.215220 -11.599139  -4.619690   \n",
       "2879 -518.293823  30.043261  -4.414401  -0.645565  -5.760980  -6.644137   \n",
       "\n",
       "              6          7          8         9  ...        31        32  \\\n",
       "0     -3.550276  -2.828331 -11.305533 -2.524927  ... -1.967064 -2.855390   \n",
       "1     -1.738342  -4.931291 -11.981820 -0.993780  ... -2.508108 -2.301962   \n",
       "2     -2.397429  -5.059065 -10.638003 -3.344197  ... -2.001603 -2.526743   \n",
       "3     -1.895052  -6.673817 -10.671633 -2.946320  ... -2.010907 -3.006704   \n",
       "4     -3.641682  -3.367344 -10.113078 -4.470085  ... -1.022449 -2.078944   \n",
       "...         ...        ...        ...       ...  ...       ...       ...   \n",
       "2875 -16.071714 -15.114341  -6.811911 -6.893698  ...  1.045612  1.018843   \n",
       "2876 -11.158518 -11.567695  -8.727760 -3.168304  ... -0.043256 -0.907802   \n",
       "2877 -12.715224 -11.865125  -7.334210 -0.318764  ...  1.261050 -1.290491   \n",
       "2878 -10.614051  -8.606992  -1.773706 -4.018751  ...  1.149274 -2.025188   \n",
       "2879 -11.744141  -6.214061  -8.602053 -1.564242  ...  1.623031 -0.266392   \n",
       "\n",
       "            33        34        35        36        37        38        39  \\\n",
       "0    -1.703427 -3.328374 -1.431488 -1.195484 -1.674807 -3.587147 -1.461006   \n",
       "1    -2.312677 -3.157205 -0.676972 -1.408076 -2.979329 -3.307365 -2.219295   \n",
       "2    -1.787501 -2.874714 -1.880346 -1.193676 -2.646903 -3.576790 -2.178030   \n",
       "3    -2.649250 -3.361632 -1.357965 -1.057094 -2.373857 -3.516003 -3.311255   \n",
       "4    -2.266737 -1.915980 -0.282572 -1.916051 -1.606609 -3.960974 -2.618362   \n",
       "...        ...       ...       ...       ...       ...       ...       ...   \n",
       "2875  1.047722 -1.751398 -1.265239 -1.941771 -0.216499 -1.095275  0.459222   \n",
       "2876  0.324583 -0.899907  1.323310 -2.088092 -0.978145 -1.354968 -0.142505   \n",
       "2877  0.098937 -1.128738  1.056421 -1.321505 -0.229303 -1.118261  0.129871   \n",
       "2878  0.022709 -1.240849  1.109606  0.100893  1.088784 -1.589957  1.574795   \n",
       "2879  0.872256  0.274007  1.068429 -0.331896  0.038037 -1.992430  0.842118   \n",
       "\n",
       "      Emotions  \n",
       "0            0  \n",
       "1            0  \n",
       "2            0  \n",
       "3            0  \n",
       "4            1  \n",
       "...        ...  \n",
       "2875         7  \n",
       "2876         7  \n",
       "2877         7  \n",
       "2878         7  \n",
       "2879         7  \n",
       "\n",
       "[2880 rows x 41 columns]"
      ]
     },
     "execution_count": 4,
     "metadata": {},
     "output_type": "execute_result"
    }
   ],
   "source": [
    "emotion_df = pd.DataFrame(radvess_speech_labels, columns=['Emotions'])\n",
    "feature_df = pd.DataFrame(ravdess_speech_data)\n",
    "Ravdess_df = pd.concat([feature_df,emotion_df], axis=1)\n",
    "        \n",
    "print(\"Finish Loading the Dataset\")\n",
    "Ravdess_df"
   ]
  },
  {
   "cell_type": "code",
   "execution_count": 5,
   "metadata": {},
   "outputs": [
    {
     "data": {
      "text/html": [
       "<div>\n",
       "<style scoped>\n",
       "    .dataframe tbody tr th:only-of-type {\n",
       "        vertical-align: middle;\n",
       "    }\n",
       "\n",
       "    .dataframe tbody tr th {\n",
       "        vertical-align: top;\n",
       "    }\n",
       "\n",
       "    .dataframe thead th {\n",
       "        text-align: right;\n",
       "    }\n",
       "</style>\n",
       "<table border=\"1\" class=\"dataframe\">\n",
       "  <thead>\n",
       "    <tr style=\"text-align: right;\">\n",
       "      <th></th>\n",
       "      <th>0</th>\n",
       "      <th>1</th>\n",
       "      <th>2</th>\n",
       "      <th>3</th>\n",
       "      <th>4</th>\n",
       "      <th>5</th>\n",
       "      <th>6</th>\n",
       "      <th>7</th>\n",
       "      <th>8</th>\n",
       "      <th>9</th>\n",
       "      <th>...</th>\n",
       "      <th>31</th>\n",
       "      <th>32</th>\n",
       "      <th>33</th>\n",
       "      <th>34</th>\n",
       "      <th>35</th>\n",
       "      <th>36</th>\n",
       "      <th>37</th>\n",
       "      <th>38</th>\n",
       "      <th>39</th>\n",
       "      <th>Emotions</th>\n",
       "    </tr>\n",
       "  </thead>\n",
       "  <tbody>\n",
       "    <tr>\n",
       "      <td>0</td>\n",
       "      <td>-697.984192</td>\n",
       "      <td>55.228489</td>\n",
       "      <td>0.323863</td>\n",
       "      <td>12.775377</td>\n",
       "      <td>7.396148</td>\n",
       "      <td>0.866224</td>\n",
       "      <td>-3.550276</td>\n",
       "      <td>-2.828331</td>\n",
       "      <td>-11.305533</td>\n",
       "      <td>-2.524927</td>\n",
       "      <td>...</td>\n",
       "      <td>-1.967064</td>\n",
       "      <td>-2.855390</td>\n",
       "      <td>-1.703427</td>\n",
       "      <td>-3.328374</td>\n",
       "      <td>-1.431488</td>\n",
       "      <td>-1.195484</td>\n",
       "      <td>-1.674807</td>\n",
       "      <td>-3.587147</td>\n",
       "      <td>-1.461006</td>\n",
       "      <td>neutral</td>\n",
       "    </tr>\n",
       "    <tr>\n",
       "      <td>1</td>\n",
       "      <td>-693.069702</td>\n",
       "      <td>55.734570</td>\n",
       "      <td>-1.919739</td>\n",
       "      <td>16.408997</td>\n",
       "      <td>8.449355</td>\n",
       "      <td>0.220736</td>\n",
       "      <td>-1.738342</td>\n",
       "      <td>-4.931291</td>\n",
       "      <td>-11.981820</td>\n",
       "      <td>-0.993780</td>\n",
       "      <td>...</td>\n",
       "      <td>-2.508108</td>\n",
       "      <td>-2.301962</td>\n",
       "      <td>-2.312677</td>\n",
       "      <td>-3.157205</td>\n",
       "      <td>-0.676972</td>\n",
       "      <td>-1.408076</td>\n",
       "      <td>-2.979329</td>\n",
       "      <td>-3.307365</td>\n",
       "      <td>-2.219295</td>\n",
       "      <td>neutral</td>\n",
       "    </tr>\n",
       "    <tr>\n",
       "      <td>2</td>\n",
       "      <td>-691.770142</td>\n",
       "      <td>58.350647</td>\n",
       "      <td>-0.165160</td>\n",
       "      <td>13.952126</td>\n",
       "      <td>5.053323</td>\n",
       "      <td>1.489326</td>\n",
       "      <td>-2.397429</td>\n",
       "      <td>-5.059065</td>\n",
       "      <td>-10.638003</td>\n",
       "      <td>-3.344197</td>\n",
       "      <td>...</td>\n",
       "      <td>-2.001603</td>\n",
       "      <td>-2.526743</td>\n",
       "      <td>-1.787501</td>\n",
       "      <td>-2.874714</td>\n",
       "      <td>-1.880346</td>\n",
       "      <td>-1.193676</td>\n",
       "      <td>-2.646903</td>\n",
       "      <td>-3.576790</td>\n",
       "      <td>-2.178030</td>\n",
       "      <td>neutral</td>\n",
       "    </tr>\n",
       "    <tr>\n",
       "      <td>3</td>\n",
       "      <td>-685.237915</td>\n",
       "      <td>56.236691</td>\n",
       "      <td>2.453112</td>\n",
       "      <td>13.566656</td>\n",
       "      <td>6.701949</td>\n",
       "      <td>3.341493</td>\n",
       "      <td>-1.895052</td>\n",
       "      <td>-6.673817</td>\n",
       "      <td>-10.671633</td>\n",
       "      <td>-2.946320</td>\n",
       "      <td>...</td>\n",
       "      <td>-2.010907</td>\n",
       "      <td>-3.006704</td>\n",
       "      <td>-2.649250</td>\n",
       "      <td>-3.361632</td>\n",
       "      <td>-1.357965</td>\n",
       "      <td>-1.057094</td>\n",
       "      <td>-2.373857</td>\n",
       "      <td>-3.516003</td>\n",
       "      <td>-3.311255</td>\n",
       "      <td>neutral</td>\n",
       "    </tr>\n",
       "    <tr>\n",
       "      <td>4</td>\n",
       "      <td>-727.317932</td>\n",
       "      <td>62.764400</td>\n",
       "      <td>2.751275</td>\n",
       "      <td>15.473256</td>\n",
       "      <td>7.763115</td>\n",
       "      <td>2.330714</td>\n",
       "      <td>-3.641682</td>\n",
       "      <td>-3.367344</td>\n",
       "      <td>-10.113078</td>\n",
       "      <td>-4.470085</td>\n",
       "      <td>...</td>\n",
       "      <td>-1.022449</td>\n",
       "      <td>-2.078944</td>\n",
       "      <td>-2.266737</td>\n",
       "      <td>-1.915980</td>\n",
       "      <td>-0.282572</td>\n",
       "      <td>-1.916051</td>\n",
       "      <td>-1.606609</td>\n",
       "      <td>-3.960974</td>\n",
       "      <td>-2.618362</td>\n",
       "      <td>calm</td>\n",
       "    </tr>\n",
       "  </tbody>\n",
       "</table>\n",
       "<p>5 rows × 41 columns</p>\n",
       "</div>"
      ],
      "text/plain": [
       "            0          1         2          3         4         5         6  \\\n",
       "0 -697.984192  55.228489  0.323863  12.775377  7.396148  0.866224 -3.550276   \n",
       "1 -693.069702  55.734570 -1.919739  16.408997  8.449355  0.220736 -1.738342   \n",
       "2 -691.770142  58.350647 -0.165160  13.952126  5.053323  1.489326 -2.397429   \n",
       "3 -685.237915  56.236691  2.453112  13.566656  6.701949  3.341493 -1.895052   \n",
       "4 -727.317932  62.764400  2.751275  15.473256  7.763115  2.330714 -3.641682   \n",
       "\n",
       "          7          8         9  ...        31        32        33        34  \\\n",
       "0 -2.828331 -11.305533 -2.524927  ... -1.967064 -2.855390 -1.703427 -3.328374   \n",
       "1 -4.931291 -11.981820 -0.993780  ... -2.508108 -2.301962 -2.312677 -3.157205   \n",
       "2 -5.059065 -10.638003 -3.344197  ... -2.001603 -2.526743 -1.787501 -2.874714   \n",
       "3 -6.673817 -10.671633 -2.946320  ... -2.010907 -3.006704 -2.649250 -3.361632   \n",
       "4 -3.367344 -10.113078 -4.470085  ... -1.022449 -2.078944 -2.266737 -1.915980   \n",
       "\n",
       "         35        36        37        38        39  Emotions  \n",
       "0 -1.431488 -1.195484 -1.674807 -3.587147 -1.461006   neutral  \n",
       "1 -0.676972 -1.408076 -2.979329 -3.307365 -2.219295   neutral  \n",
       "2 -1.880346 -1.193676 -2.646903 -3.576790 -2.178030   neutral  \n",
       "3 -1.357965 -1.057094 -2.373857 -3.516003 -3.311255   neutral  \n",
       "4 -0.282572 -1.916051 -1.606609 -3.960974 -2.618362      calm  \n",
       "\n",
       "[5 rows x 41 columns]"
      ]
     },
     "execution_count": 5,
     "metadata": {},
     "output_type": "execute_result"
    }
   ],
   "source": [
    "Ravdess_df.Emotions.replace({0:'neutral', 1:'calm', 2:'happy', 3:'sad', 4:'angry', 5:'fear', 6:'disgust', 7:'surprise'}, inplace=True)\n",
    "Ravdess_df.head()"
   ]
  },
  {
   "cell_type": "code",
   "execution_count": 6,
   "metadata": {},
   "outputs": [
    {
     "name": "stdout",
     "output_type": "stream",
     "text": [
      "[[-6.97984192e+02  5.52284889e+01  3.23863089e-01 ... -1.67480683e+00\n",
      "  -3.58714676e+00 -1.46100640e+00]\n",
      " [-6.93069702e+02  5.57345695e+01 -1.91973925e+00 ... -2.97932935e+00\n",
      "  -3.30736542e+00 -2.21929502e+00]\n",
      " [-6.91770142e+02  5.83506470e+01 -1.65160105e-01 ... -2.64690304e+00\n",
      "  -3.57678962e+00 -2.17803001e+00]\n",
      " ...\n",
      " [-5.41550232e+02  3.00866756e+01 -1.84917221e+01 ... -2.29303464e-01\n",
      "  -1.11826110e+00  1.29870504e-01]\n",
      " [-4.92985962e+02  2.44256096e+01 -6.56571770e+00 ...  1.08878422e+00\n",
      "  -1.58995676e+00  1.57479489e+00]\n",
      " [-5.18293823e+02  3.00432606e+01 -4.41440105e+00 ...  3.80374044e-02\n",
      "  -1.99243033e+00  8.42117608e-01]]\n"
     ]
    }
   ],
   "source": [
    "X = Ravdess_df.iloc[: ,:-1].values\n",
    "Y = Ravdess_df['Emotions'].values\n",
    "print(X)"
   ]
  },
  {
   "cell_type": "markdown",
   "metadata": {},
   "source": [
    "### Converting categorical data"
   ]
  },
  {
   "cell_type": "code",
   "execution_count": 7,
   "metadata": {},
   "outputs": [],
   "source": [
    "\n",
    "encoder = OneHotEncoder()\n",
    "Y = encoder.fit_transform(np.array(Y).reshape(-1,1)).toarray()"
   ]
  },
  {
   "cell_type": "markdown",
   "metadata": {},
   "source": [
    "### Splitting data for training and testing"
   ]
  },
  {
   "cell_type": "code",
   "execution_count": 8,
   "metadata": {},
   "outputs": [],
   "source": [
    "x_train,x_test,y_train,y_test=train_test_split(np.array(X), Y, test_size=0.2, random_state=30)"
   ]
  },
  {
   "cell_type": "code",
   "execution_count": 9,
   "metadata": {},
   "outputs": [
    {
     "data": {
      "text/plain": [
       "((2304, 40), (2304, 8), (576, 40), (576, 8))"
      ]
     },
     "execution_count": 9,
     "metadata": {},
     "output_type": "execute_result"
    }
   ],
   "source": [
    "scaler = StandardScaler()\n",
    "x_train = scaler.fit_transform(x_train)\n",
    "x_test = scaler.transform(x_test)\n",
    "x_train.shape, y_train.shape, x_test.shape, y_test.shape"
   ]
  },
  {
   "cell_type": "code",
   "execution_count": 10,
   "metadata": {},
   "outputs": [
    {
     "name": "stdout",
     "output_type": "stream",
     "text": [
      "(2304, 576)\n"
     ]
    }
   ],
   "source": [
    "\n",
    "print((x_train.shape[0], x_test.shape[0]))"
   ]
  },
  {
   "cell_type": "code",
   "execution_count": 11,
   "metadata": {},
   "outputs": [
    {
     "name": "stdout",
     "output_type": "stream",
     "text": [
      "Features extracted: 40\n"
     ]
    }
   ],
   "source": [
    "\n",
    "print(f'Features extracted: {x_train.shape[1]}')"
   ]
  },
  {
   "cell_type": "markdown",
   "metadata": {},
   "source": [
    "### Building MLP Classifier"
   ]
  },
  {
   "cell_type": "code",
   "execution_count": 12,
   "metadata": {},
   "outputs": [],
   "source": [
    "\n",
    "model=MLPClassifier(alpha=0.01, batch_size=256, epsilon=1e-08, hidden_layer_sizes=(300,), learning_rate='adaptive', max_iter=500)\n"
   ]
  },
  {
   "cell_type": "markdown",
   "metadata": {},
   "source": [
    "### Training Data"
   ]
  },
  {
   "cell_type": "code",
   "execution_count": 13,
   "metadata": {},
   "outputs": [
    {
     "name": "stderr",
     "output_type": "stream",
     "text": [
      "C:\\Users\\chait\\Anaconda3\\lib\\site-packages\\sklearn\\neural_network\\multilayer_perceptron.py:566: ConvergenceWarning: Stochastic Optimizer: Maximum iterations (500) reached and the optimization hasn't converged yet.\n",
      "  % self.max_iter, ConvergenceWarning)\n"
     ]
    },
    {
     "data": {
      "text/plain": [
       "MLPClassifier(activation='relu', alpha=0.01, batch_size=256, beta_1=0.9,\n",
       "              beta_2=0.999, early_stopping=False, epsilon=1e-08,\n",
       "              hidden_layer_sizes=(300,), learning_rate='adaptive',\n",
       "              learning_rate_init=0.001, max_iter=500, momentum=0.9,\n",
       "              n_iter_no_change=10, nesterovs_momentum=True, power_t=0.5,\n",
       "              random_state=None, shuffle=True, solver='adam', tol=0.0001,\n",
       "              validation_fraction=0.1, verbose=False, warm_start=False)"
      ]
     },
     "execution_count": 13,
     "metadata": {},
     "output_type": "execute_result"
    }
   ],
   "source": [
    "\n",
    "model.fit(x_train,y_train)"
   ]
  },
  {
   "cell_type": "code",
   "execution_count": 14,
   "metadata": {},
   "outputs": [],
   "source": [
    "\n",
    "y_pred2=model.predict(x_train)"
   ]
  },
  {
   "cell_type": "code",
   "execution_count": 15,
   "metadata": {},
   "outputs": [],
   "source": [
    "\n",
    "y_pred=model.predict(x_test)"
   ]
  },
  {
   "cell_type": "markdown",
   "metadata": {},
   "source": [
    "### Finding Accuracy"
   ]
  },
  {
   "cell_type": "code",
   "execution_count": 16,
   "metadata": {},
   "outputs": [
    {
     "name": "stdout",
     "output_type": "stream",
     "text": [
      "Accuracy of training set: 100.00%\n"
     ]
    }
   ],
   "source": [
    "\n",
    "accuracy=accuracy_score(y_true=y_train, y_pred=y_pred2)\n",
    "\n",
    "print(\"Accuracy of training set: {:.2f}%\".format(accuracy*100))"
   ]
  },
  {
   "cell_type": "code",
   "execution_count": 17,
   "metadata": {},
   "outputs": [
    {
     "name": "stdout",
     "output_type": "stream",
     "text": [
      "Accuracy of testing set: 93.75%\n"
     ]
    }
   ],
   "source": [
    "\n",
    "accuracy=accuracy_score(y_true=y_test, y_pred=y_pred)\n",
    "\n",
    "print(\"Accuracy of testing set: {:.2f}%\".format(accuracy*100))"
   ]
  },
  {
   "cell_type": "markdown",
   "metadata": {},
   "source": [
    "### Building Confusion Matrix and Classification Report"
   ]
  },
  {
   "cell_type": "code",
   "execution_count": 18,
   "metadata": {},
   "outputs": [],
   "source": [
    "pred_test = model.predict(x_test)\n",
    "y_pred = encoder.inverse_transform(pred_test)\n",
    "\n",
    "y_test = encoder.inverse_transform(y_test)"
   ]
  },
  {
   "cell_type": "code",
   "execution_count": 19,
   "metadata": {},
   "outputs": [],
   "source": [
    "df = pd.DataFrame(columns=['Predicted Labels', 'Actual Labels'])\n",
    "df['Predicted Labels'] = y_pred.flatten()\n",
    "df['Actual Labels'] = y_test.flatten()"
   ]
  },
  {
   "cell_type": "code",
   "execution_count": 20,
   "metadata": {},
   "outputs": [
    {
     "data": {
      "text/html": [
       "<div>\n",
       "<style scoped>\n",
       "    .dataframe tbody tr th:only-of-type {\n",
       "        vertical-align: middle;\n",
       "    }\n",
       "\n",
       "    .dataframe tbody tr th {\n",
       "        vertical-align: top;\n",
       "    }\n",
       "\n",
       "    .dataframe thead th {\n",
       "        text-align: right;\n",
       "    }\n",
       "</style>\n",
       "<table border=\"1\" class=\"dataframe\">\n",
       "  <thead>\n",
       "    <tr style=\"text-align: right;\">\n",
       "      <th></th>\n",
       "      <th>Predicted Labels</th>\n",
       "      <th>Actual Labels</th>\n",
       "    </tr>\n",
       "  </thead>\n",
       "  <tbody>\n",
       "    <tr>\n",
       "      <td>0</td>\n",
       "      <td>sad</td>\n",
       "      <td>sad</td>\n",
       "    </tr>\n",
       "    <tr>\n",
       "      <td>1</td>\n",
       "      <td>happy</td>\n",
       "      <td>happy</td>\n",
       "    </tr>\n",
       "    <tr>\n",
       "      <td>2</td>\n",
       "      <td>fear</td>\n",
       "      <td>fear</td>\n",
       "    </tr>\n",
       "    <tr>\n",
       "      <td>3</td>\n",
       "      <td>angry</td>\n",
       "      <td>angry</td>\n",
       "    </tr>\n",
       "    <tr>\n",
       "      <td>4</td>\n",
       "      <td>angry</td>\n",
       "      <td>surprise</td>\n",
       "    </tr>\n",
       "    <tr>\n",
       "      <td>5</td>\n",
       "      <td>calm</td>\n",
       "      <td>calm</td>\n",
       "    </tr>\n",
       "    <tr>\n",
       "      <td>6</td>\n",
       "      <td>sad</td>\n",
       "      <td>sad</td>\n",
       "    </tr>\n",
       "    <tr>\n",
       "      <td>7</td>\n",
       "      <td>sad</td>\n",
       "      <td>sad</td>\n",
       "    </tr>\n",
       "    <tr>\n",
       "      <td>8</td>\n",
       "      <td>calm</td>\n",
       "      <td>calm</td>\n",
       "    </tr>\n",
       "    <tr>\n",
       "      <td>9</td>\n",
       "      <td>sad</td>\n",
       "      <td>sad</td>\n",
       "    </tr>\n",
       "  </tbody>\n",
       "</table>\n",
       "</div>"
      ],
      "text/plain": [
       "  Predicted Labels Actual Labels\n",
       "0              sad           sad\n",
       "1            happy         happy\n",
       "2             fear          fear\n",
       "3            angry         angry\n",
       "4            angry      surprise\n",
       "5             calm          calm\n",
       "6              sad           sad\n",
       "7              sad           sad\n",
       "8             calm          calm\n",
       "9              sad           sad"
      ]
     },
     "execution_count": 20,
     "metadata": {},
     "output_type": "execute_result"
    }
   ],
   "source": [
    "df.head(10)"
   ]
  },
  {
   "cell_type": "code",
   "execution_count": 21,
   "metadata": {},
   "outputs": [
    {
     "data": {
      "image/png": "[encoded data removed]",
      "text/plain": [
       "<Figure size 864x720 with 2 Axes>"
      ]
     },
     "metadata": {
      "needs_background": "light"
     },
     "output_type": "display_data"
    }
   ],
   "source": [
    "cm = confusion_matrix(y_test, y_pred)\n",
    "plt.figure(figsize = (12, 10))\n",
    "cm = pd.DataFrame(cm , index = [i for i in encoder.categories_] , columns = [i for i in encoder.categories_])\n",
    "sns.heatmap(cm, linecolor='white', cmap='Blues', linewidth=1, annot=True, fmt='')\n",
    "plt.title('Confusion Matrix', size=20)\n",
    "plt.xlabel('Predicted Labels', size=14)\n",
    "plt.ylabel('Actual Labels', size=14)\n",
    "plt.show()"
   ]
  },
  {
   "cell_type": "code",
   "execution_count": 22,
   "metadata": {},
   "outputs": [
    {
     "name": "stdout",
     "output_type": "stream",
     "text": [
      "              precision    recall  f1-score   support\n",
      "\n",
      "       angry       0.73      1.00      0.85        77\n",
      "        calm       1.00      0.97      0.99        77\n",
      "     disgust       0.95      0.97      0.96        72\n",
      "        fear       1.00      0.94      0.97        68\n",
      "       happy       1.00      0.92      0.96        71\n",
      "     neutral       1.00      0.78      0.88        46\n",
      "         sad       1.00      0.95      0.97        78\n",
      "    surprise       1.00      0.95      0.98        87\n",
      "\n",
      "    accuracy                           0.94       576\n",
      "   macro avg       0.96      0.94      0.94       576\n",
      "weighted avg       0.96      0.94      0.95       576\n",
      "\n"
     ]
    }
   ],
   "source": [
    "print(classification_report(y_test, y_pred))\n"
   ]
  },
  {
   "cell_type": "markdown",
   "metadata": {},
   "source": [
    "### Saving Model"
   ]
  },
  {
   "cell_type": "code",
   "execution_count": 23,
   "metadata": {},
   "outputs": [],
   "source": [
    "filename = 'MLP_model.sav'\n",
    "pickle.dump(model, open(filename, 'wb'))"
   ]
  }
 ],
 "metadata": {
  "kernelspec": {
   "display_name": "Python 3",
   "language": "python",
   "name": "python3"
  },
  "language_info": {
   "codemirror_mode": {
    "name": "ipython",
    "version": 3
   },
   "file_extension": ".py",
   "mimetype": "text/x-python",
   "name": "python",
   "nbconvert_exporter": "python",
   "pygments_lexer": "ipython3",
   "version": "3.7.4"
  }
 },
 "nbformat": 4,
 "nbformat_minor": 2
}
