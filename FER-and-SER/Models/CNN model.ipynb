{
 "cells": [
  {
   "cell_type": "markdown",
   "metadata": {},
   "source": [
    "## Importing Libraries"
   ]
  },
  {
   "cell_type": "code",
   "execution_count": 1,
   "metadata": {},
   "outputs": [
    {
     "name": "stderr",
     "output_type": "stream",
     "text": [
      "Using TensorFlow backend.\n"
     ]
    }
   ],
   "source": [
    "import numpy as np\n",
    "import os\n",
    "import sys\n",
    "import pandas as pd\n",
    "import librosa\n",
    "import librosa.display\n",
    "import seaborn as sns\n",
    "import matplotlib.pyplot as plt\n",
    "\n",
    "from sklearn.preprocessing import StandardScaler, OneHotEncoder\n",
    "from sklearn.metrics import confusion_matrix, classification_report\n",
    "from sklearn.model_selection import train_test_split\n",
    "\n",
    "import keras\n",
    "from keras.callbacks import ReduceLROnPlateau\n",
    "from keras.models import Sequential\n",
    "from keras.layers import Dense, Conv1D, MaxPooling1D, Flatten, Dropout, BatchNormalization\n",
    "from keras.utils import np_utils, to_categorical\n",
    "from keras.callbacks import ModelCheckpoint\n",
    "\n",
    "import warnings\n",
    "if not sys.warnoptions:\n",
    "    warnings.simplefilter(\"ignore\")\n",
    "warnings.filterwarnings(\"ignore\", category=DeprecationWarning)"
   ]
  },
  {
   "cell_type": "markdown",
   "metadata": {},
   "source": [
    "### Function for feature extraction"
   ]
  },
  {
   "cell_type": "code",
   "execution_count": 2,
   "metadata": {},
   "outputs": [],
   "source": [
    "\n",
    "def extract_mfcc(wav_file_name):\n",
    "\n",
    "    y, sr = librosa.load(wav_file_name)\n",
    "    mfccs = np.mean(librosa.feature.mfcc(y=y, sr=sr, n_mfcc=40).T,axis=0)\n",
    "    \n",
    "    return mfccs"
   ]
  },
  {
   "cell_type": "markdown",
   "metadata": {},
   "source": [
    "### Loading Data"
   ]
  },
  {
   "cell_type": "code",
   "execution_count": 3,
   "metadata": {},
   "outputs": [],
   "source": [
    "radvess_speech_labels = [] \n",
    "ravdess_speech_data = [] \n",
    "for dirname, _, filenames in os.walk('F:\\\\107620_256618_bundle_archive\\\\'):\n",
    "    for filename in filenames:\n",
    "        \n",
    "        radvess_speech_labels.append(int(filename[7:8]) - 1)\n",
    "        wav_file_name = os.path.join(dirname, filename)\n",
    "        ravdess_speech_data.append(extract_mfcc(wav_file_name))"
   ]
  },
  {
   "cell_type": "code",
   "execution_count": 4,
   "metadata": {},
   "outputs": [
    {
     "name": "stdout",
     "output_type": "stream",
     "text": [
      "Finish Loading the Dataset\n"
     ]
    },
    {
     "data": {
      "text/html": [
       "<div>\n",
       "<style scoped>\n",
       "    .dataframe tbody tr th:only-of-type {\n",
       "        vertical-align: middle;\n",
       "    }\n",
       "\n",
       "    .dataframe tbody tr th {\n",
       "        vertical-align: top;\n",
       "    }\n",
       "\n",
       "    .dataframe thead th {\n",
       "        text-align: right;\n",
       "    }\n",
       "</style>\n",
       "<table border=\"1\" class=\"dataframe\">\n",
       "  <thead>\n",
       "    <tr style=\"text-align: right;\">\n",
       "      <th></th>\n",
       "      <th>0</th>\n",
       "      <th>1</th>\n",
       "      <th>2</th>\n",
       "      <th>3</th>\n",
       "      <th>4</th>\n",
       "      <th>5</th>\n",
       "      <th>6</th>\n",
       "      <th>7</th>\n",
       "      <th>8</th>\n",
       "      <th>9</th>\n",
       "      <th>...</th>\n",
       "      <th>31</th>\n",
       "      <th>32</th>\n",
       "      <th>33</th>\n",
       "      <th>34</th>\n",
       "      <th>35</th>\n",
       "      <th>36</th>\n",
       "      <th>37</th>\n",
       "      <th>38</th>\n",
       "      <th>39</th>\n",
       "      <th>Emotions</th>\n",
       "    </tr>\n",
       "  </thead>\n",
       "  <tbody>\n",
       "    <tr>\n",
       "      <td>0</td>\n",
       "      <td>-697.984192</td>\n",
       "      <td>55.228489</td>\n",
       "      <td>0.323863</td>\n",
       "      <td>12.775377</td>\n",
       "      <td>7.396148</td>\n",
       "      <td>0.866224</td>\n",
       "      <td>-3.550276</td>\n",
       "      <td>-2.828331</td>\n",
       "      <td>-11.305533</td>\n",
       "      <td>-2.524927</td>\n",
       "      <td>...</td>\n",
       "      <td>-1.967064</td>\n",
       "      <td>-2.855390</td>\n",
       "      <td>-1.703427</td>\n",
       "      <td>-3.328374</td>\n",
       "      <td>-1.431488</td>\n",
       "      <td>-1.195484</td>\n",
       "      <td>-1.674807</td>\n",
       "      <td>-3.587147</td>\n",
       "      <td>-1.461006</td>\n",
       "      <td>0</td>\n",
       "    </tr>\n",
       "    <tr>\n",
       "      <td>1</td>\n",
       "      <td>-693.069702</td>\n",
       "      <td>55.734570</td>\n",
       "      <td>-1.919739</td>\n",
       "      <td>16.408997</td>\n",
       "      <td>8.449355</td>\n",
       "      <td>0.220736</td>\n",
       "      <td>-1.738342</td>\n",
       "      <td>-4.931291</td>\n",
       "      <td>-11.981820</td>\n",
       "      <td>-0.993780</td>\n",
       "      <td>...</td>\n",
       "      <td>-2.508108</td>\n",
       "      <td>-2.301962</td>\n",
       "      <td>-2.312677</td>\n",
       "      <td>-3.157205</td>\n",
       "      <td>-0.676972</td>\n",
       "      <td>-1.408076</td>\n",
       "      <td>-2.979329</td>\n",
       "      <td>-3.307365</td>\n",
       "      <td>-2.219295</td>\n",
       "      <td>0</td>\n",
       "    </tr>\n",
       "    <tr>\n",
       "      <td>2</td>\n",
       "      <td>-691.770142</td>\n",
       "      <td>58.350647</td>\n",
       "      <td>-0.165160</td>\n",
       "      <td>13.952126</td>\n",
       "      <td>5.053323</td>\n",
       "      <td>1.489326</td>\n",
       "      <td>-2.397429</td>\n",
       "      <td>-5.059065</td>\n",
       "      <td>-10.638003</td>\n",
       "      <td>-3.344197</td>\n",
       "      <td>...</td>\n",
       "      <td>-2.001603</td>\n",
       "      <td>-2.526743</td>\n",
       "      <td>-1.787501</td>\n",
       "      <td>-2.874714</td>\n",
       "      <td>-1.880346</td>\n",
       "      <td>-1.193676</td>\n",
       "      <td>-2.646903</td>\n",
       "      <td>-3.576790</td>\n",
       "      <td>-2.178030</td>\n",
       "      <td>0</td>\n",
       "    </tr>\n",
       "    <tr>\n",
       "      <td>3</td>\n",
       "      <td>-685.237915</td>\n",
       "      <td>56.236691</td>\n",
       "      <td>2.453112</td>\n",
       "      <td>13.566656</td>\n",
       "      <td>6.701949</td>\n",
       "      <td>3.341493</td>\n",
       "      <td>-1.895052</td>\n",
       "      <td>-6.673817</td>\n",
       "      <td>-10.671633</td>\n",
       "      <td>-2.946320</td>\n",
       "      <td>...</td>\n",
       "      <td>-2.010907</td>\n",
       "      <td>-3.006704</td>\n",
       "      <td>-2.649250</td>\n",
       "      <td>-3.361632</td>\n",
       "      <td>-1.357965</td>\n",
       "      <td>-1.057094</td>\n",
       "      <td>-2.373857</td>\n",
       "      <td>-3.516003</td>\n",
       "      <td>-3.311255</td>\n",
       "      <td>0</td>\n",
       "    </tr>\n",
       "    <tr>\n",
       "      <td>4</td>\n",
       "      <td>-727.317932</td>\n",
       "      <td>62.764400</td>\n",
       "      <td>2.751275</td>\n",
       "      <td>15.473256</td>\n",
       "      <td>7.763115</td>\n",
       "      <td>2.330714</td>\n",
       "      <td>-3.641682</td>\n",
       "      <td>-3.367344</td>\n",
       "      <td>-10.113078</td>\n",
       "      <td>-4.470085</td>\n",
       "      <td>...</td>\n",
       "      <td>-1.022449</td>\n",
       "      <td>-2.078944</td>\n",
       "      <td>-2.266737</td>\n",
       "      <td>-1.915980</td>\n",
       "      <td>-0.282572</td>\n",
       "      <td>-1.916051</td>\n",
       "      <td>-1.606609</td>\n",
       "      <td>-3.960974</td>\n",
       "      <td>-2.618362</td>\n",
       "      <td>1</td>\n",
       "    </tr>\n",
       "    <tr>\n",
       "      <td>...</td>\n",
       "      <td>...</td>\n",
       "      <td>...</td>\n",
       "      <td>...</td>\n",
       "      <td>...</td>\n",
       "      <td>...</td>\n",
       "      <td>...</td>\n",
       "      <td>...</td>\n",
       "      <td>...</td>\n",
       "      <td>...</td>\n",
       "      <td>...</td>\n",
       "      <td>...</td>\n",
       "      <td>...</td>\n",
       "      <td>...</td>\n",
       "      <td>...</td>\n",
       "      <td>...</td>\n",
       "      <td>...</td>\n",
       "      <td>...</td>\n",
       "      <td>...</td>\n",
       "      <td>...</td>\n",
       "      <td>...</td>\n",
       "      <td>...</td>\n",
       "    </tr>\n",
       "    <tr>\n",
       "      <td>2875</td>\n",
       "      <td>-586.762634</td>\n",
       "      <td>25.372396</td>\n",
       "      <td>-17.824156</td>\n",
       "      <td>-1.315452</td>\n",
       "      <td>-15.738236</td>\n",
       "      <td>-9.392014</td>\n",
       "      <td>-16.071714</td>\n",
       "      <td>-15.114341</td>\n",
       "      <td>-6.811911</td>\n",
       "      <td>-6.893698</td>\n",
       "      <td>...</td>\n",
       "      <td>1.045612</td>\n",
       "      <td>1.018843</td>\n",
       "      <td>1.047722</td>\n",
       "      <td>-1.751398</td>\n",
       "      <td>-1.265239</td>\n",
       "      <td>-1.941771</td>\n",
       "      <td>-0.216499</td>\n",
       "      <td>-1.095275</td>\n",
       "      <td>0.459222</td>\n",
       "      <td>7</td>\n",
       "    </tr>\n",
       "    <tr>\n",
       "      <td>2876</td>\n",
       "      <td>-532.757446</td>\n",
       "      <td>38.194206</td>\n",
       "      <td>-15.409904</td>\n",
       "      <td>-5.477151</td>\n",
       "      <td>-15.620424</td>\n",
       "      <td>-13.425549</td>\n",
       "      <td>-11.158518</td>\n",
       "      <td>-11.567695</td>\n",
       "      <td>-8.727760</td>\n",
       "      <td>-3.168304</td>\n",
       "      <td>...</td>\n",
       "      <td>-0.043256</td>\n",
       "      <td>-0.907802</td>\n",
       "      <td>0.324583</td>\n",
       "      <td>-0.899907</td>\n",
       "      <td>1.323310</td>\n",
       "      <td>-2.088092</td>\n",
       "      <td>-0.978145</td>\n",
       "      <td>-1.354968</td>\n",
       "      <td>-0.142505</td>\n",
       "      <td>7</td>\n",
       "    </tr>\n",
       "    <tr>\n",
       "      <td>2877</td>\n",
       "      <td>-541.550232</td>\n",
       "      <td>30.086676</td>\n",
       "      <td>-18.491722</td>\n",
       "      <td>-2.648303</td>\n",
       "      <td>-14.771161</td>\n",
       "      <td>-17.068848</td>\n",
       "      <td>-12.715224</td>\n",
       "      <td>-11.865125</td>\n",
       "      <td>-7.334210</td>\n",
       "      <td>-0.318764</td>\n",
       "      <td>...</td>\n",
       "      <td>1.261050</td>\n",
       "      <td>-1.290491</td>\n",
       "      <td>0.098937</td>\n",
       "      <td>-1.128738</td>\n",
       "      <td>1.056421</td>\n",
       "      <td>-1.321505</td>\n",
       "      <td>-0.229303</td>\n",
       "      <td>-1.118261</td>\n",
       "      <td>0.129871</td>\n",
       "      <td>7</td>\n",
       "    </tr>\n",
       "    <tr>\n",
       "      <td>2878</td>\n",
       "      <td>-492.985962</td>\n",
       "      <td>24.425610</td>\n",
       "      <td>-6.565718</td>\n",
       "      <td>2.215220</td>\n",
       "      <td>-11.599139</td>\n",
       "      <td>-4.619690</td>\n",
       "      <td>-10.614051</td>\n",
       "      <td>-8.606992</td>\n",
       "      <td>-1.773706</td>\n",
       "      <td>-4.018751</td>\n",
       "      <td>...</td>\n",
       "      <td>1.149274</td>\n",
       "      <td>-2.025188</td>\n",
       "      <td>0.022709</td>\n",
       "      <td>-1.240849</td>\n",
       "      <td>1.109606</td>\n",
       "      <td>0.100893</td>\n",
       "      <td>1.088784</td>\n",
       "      <td>-1.589957</td>\n",
       "      <td>1.574795</td>\n",
       "      <td>7</td>\n",
       "    </tr>\n",
       "    <tr>\n",
       "      <td>2879</td>\n",
       "      <td>-518.293823</td>\n",
       "      <td>30.043261</td>\n",
       "      <td>-4.414401</td>\n",
       "      <td>-0.645565</td>\n",
       "      <td>-5.760980</td>\n",
       "      <td>-6.644137</td>\n",
       "      <td>-11.744141</td>\n",
       "      <td>-6.214061</td>\n",
       "      <td>-8.602053</td>\n",
       "      <td>-1.564242</td>\n",
       "      <td>...</td>\n",
       "      <td>1.623031</td>\n",
       "      <td>-0.266392</td>\n",
       "      <td>0.872256</td>\n",
       "      <td>0.274007</td>\n",
       "      <td>1.068429</td>\n",
       "      <td>-0.331896</td>\n",
       "      <td>0.038037</td>\n",
       "      <td>-1.992430</td>\n",
       "      <td>0.842118</td>\n",
       "      <td>7</td>\n",
       "    </tr>\n",
       "  </tbody>\n",
       "</table>\n",
       "<p>2880 rows × 41 columns</p>\n",
       "</div>"
      ],
      "text/plain": [
       "               0          1          2          3          4          5  \\\n",
       "0    -697.984192  55.228489   0.323863  12.775377   7.396148   0.866224   \n",
       "1    -693.069702  55.734570  -1.919739  16.408997   8.449355   0.220736   \n",
       "2    -691.770142  58.350647  -0.165160  13.952126   5.053323   1.489326   \n",
       "3    -685.237915  56.236691   2.453112  13.566656   6.701949   3.341493   \n",
       "4    -727.317932  62.764400   2.751275  15.473256   7.763115   2.330714   \n",
       "...          ...        ...        ...        ...        ...        ...   \n",
       "2875 -586.762634  25.372396 -17.824156  -1.315452 -15.738236  -9.392014   \n",
       "2876 -532.757446  38.194206 -15.409904  -5.477151 -15.620424 -13.425549   \n",
       "2877 -541.550232  30.086676 -18.491722  -2.648303 -14.771161 -17.068848   \n",
       "2878 -492.985962  24.425610  -6.565718   2.215220 -11.599139  -4.619690   \n",
       "2879 -518.293823  30.043261  -4.414401  -0.645565  -5.760980  -6.644137   \n",
       "\n",
       "              6          7          8         9  ...        31        32  \\\n",
       "0     -3.550276  -2.828331 -11.305533 -2.524927  ... -1.967064 -2.855390   \n",
       "1     -1.738342  -4.931291 -11.981820 -0.993780  ... -2.508108 -2.301962   \n",
       "2     -2.397429  -5.059065 -10.638003 -3.344197  ... -2.001603 -2.526743   \n",
       "3     -1.895052  -6.673817 -10.671633 -2.946320  ... -2.010907 -3.006704   \n",
       "4     -3.641682  -3.367344 -10.113078 -4.470085  ... -1.022449 -2.078944   \n",
       "...         ...        ...        ...       ...  ...       ...       ...   \n",
       "2875 -16.071714 -15.114341  -6.811911 -6.893698  ...  1.045612  1.018843   \n",
       "2876 -11.158518 -11.567695  -8.727760 -3.168304  ... -0.043256 -0.907802   \n",
       "2877 -12.715224 -11.865125  -7.334210 -0.318764  ...  1.261050 -1.290491   \n",
       "2878 -10.614051  -8.606992  -1.773706 -4.018751  ...  1.149274 -2.025188   \n",
       "2879 -11.744141  -6.214061  -8.602053 -1.564242  ...  1.623031 -0.266392   \n",
       "\n",
       "            33        34        35        36        37        38        39  \\\n",
       "0    -1.703427 -3.328374 -1.431488 -1.195484 -1.674807 -3.587147 -1.461006   \n",
       "1    -2.312677 -3.157205 -0.676972 -1.408076 -2.979329 -3.307365 -2.219295   \n",
       "2    -1.787501 -2.874714 -1.880346 -1.193676 -2.646903 -3.576790 -2.178030   \n",
       "3    -2.649250 -3.361632 -1.357965 -1.057094 -2.373857 -3.516003 -3.311255   \n",
       "4    -2.266737 -1.915980 -0.282572 -1.916051 -1.606609 -3.960974 -2.618362   \n",
       "...        ...       ...       ...       ...       ...       ...       ...   \n",
       "2875  1.047722 -1.751398 -1.265239 -1.941771 -0.216499 -1.095275  0.459222   \n",
       "2876  0.324583 -0.899907  1.323310 -2.088092 -0.978145 -1.354968 -0.142505   \n",
       "2877  0.098937 -1.128738  1.056421 -1.321505 -0.229303 -1.118261  0.129871   \n",
       "2878  0.022709 -1.240849  1.109606  0.100893  1.088784 -1.589957  1.574795   \n",
       "2879  0.872256  0.274007  1.068429 -0.331896  0.038037 -1.992430  0.842118   \n",
       "\n",
       "      Emotions  \n",
       "0            0  \n",
       "1            0  \n",
       "2            0  \n",
       "3            0  \n",
       "4            1  \n",
       "...        ...  \n",
       "2875         7  \n",
       "2876         7  \n",
       "2877         7  \n",
       "2878         7  \n",
       "2879         7  \n",
       "\n",
       "[2880 rows x 41 columns]"
      ]
     },
     "execution_count": 4,
     "metadata": {},
     "output_type": "execute_result"
    }
   ],
   "source": [
    "emotion_df = pd.DataFrame(radvess_speech_labels, columns=['Emotions'])\n",
    "feature_df = pd.DataFrame(ravdess_speech_data)\n",
    "Ravdess_df = pd.concat([feature_df,emotion_df], axis=1)\n",
    "        \n",
    "print(\"Finish Loading the Dataset\")\n",
    "Ravdess_df\n"
   ]
  },
  {
   "cell_type": "code",
   "execution_count": 5,
   "metadata": {},
   "outputs": [
    {
     "data": {
      "text/html": [
       "<div>\n",
       "<style scoped>\n",
       "    .dataframe tbody tr th:only-of-type {\n",
       "        vertical-align: middle;\n",
       "    }\n",
       "\n",
       "    .dataframe tbody tr th {\n",
       "        vertical-align: top;\n",
       "    }\n",
       "\n",
       "    .dataframe thead th {\n",
       "        text-align: right;\n",
       "    }\n",
       "</style>\n",
       "<table border=\"1\" class=\"dataframe\">\n",
       "  <thead>\n",
       "    <tr style=\"text-align: right;\">\n",
       "      <th></th>\n",
       "      <th>0</th>\n",
       "      <th>1</th>\n",
       "      <th>2</th>\n",
       "      <th>3</th>\n",
       "      <th>4</th>\n",
       "      <th>5</th>\n",
       "      <th>6</th>\n",
       "      <th>7</th>\n",
       "      <th>8</th>\n",
       "      <th>9</th>\n",
       "      <th>...</th>\n",
       "      <th>31</th>\n",
       "      <th>32</th>\n",
       "      <th>33</th>\n",
       "      <th>34</th>\n",
       "      <th>35</th>\n",
       "      <th>36</th>\n",
       "      <th>37</th>\n",
       "      <th>38</th>\n",
       "      <th>39</th>\n",
       "      <th>Emotions</th>\n",
       "    </tr>\n",
       "  </thead>\n",
       "  <tbody>\n",
       "    <tr>\n",
       "      <td>0</td>\n",
       "      <td>-697.984192</td>\n",
       "      <td>55.228489</td>\n",
       "      <td>0.323863</td>\n",
       "      <td>12.775377</td>\n",
       "      <td>7.396148</td>\n",
       "      <td>0.866224</td>\n",
       "      <td>-3.550276</td>\n",
       "      <td>-2.828331</td>\n",
       "      <td>-11.305533</td>\n",
       "      <td>-2.524927</td>\n",
       "      <td>...</td>\n",
       "      <td>-1.967064</td>\n",
       "      <td>-2.855390</td>\n",
       "      <td>-1.703427</td>\n",
       "      <td>-3.328374</td>\n",
       "      <td>-1.431488</td>\n",
       "      <td>-1.195484</td>\n",
       "      <td>-1.674807</td>\n",
       "      <td>-3.587147</td>\n",
       "      <td>-1.461006</td>\n",
       "      <td>neutral</td>\n",
       "    </tr>\n",
       "    <tr>\n",
       "      <td>1</td>\n",
       "      <td>-693.069702</td>\n",
       "      <td>55.734570</td>\n",
       "      <td>-1.919739</td>\n",
       "      <td>16.408997</td>\n",
       "      <td>8.449355</td>\n",
       "      <td>0.220736</td>\n",
       "      <td>-1.738342</td>\n",
       "      <td>-4.931291</td>\n",
       "      <td>-11.981820</td>\n",
       "      <td>-0.993780</td>\n",
       "      <td>...</td>\n",
       "      <td>-2.508108</td>\n",
       "      <td>-2.301962</td>\n",
       "      <td>-2.312677</td>\n",
       "      <td>-3.157205</td>\n",
       "      <td>-0.676972</td>\n",
       "      <td>-1.408076</td>\n",
       "      <td>-2.979329</td>\n",
       "      <td>-3.307365</td>\n",
       "      <td>-2.219295</td>\n",
       "      <td>neutral</td>\n",
       "    </tr>\n",
       "    <tr>\n",
       "      <td>2</td>\n",
       "      <td>-691.770142</td>\n",
       "      <td>58.350647</td>\n",
       "      <td>-0.165160</td>\n",
       "      <td>13.952126</td>\n",
       "      <td>5.053323</td>\n",
       "      <td>1.489326</td>\n",
       "      <td>-2.397429</td>\n",
       "      <td>-5.059065</td>\n",
       "      <td>-10.638003</td>\n",
       "      <td>-3.344197</td>\n",
       "      <td>...</td>\n",
       "      <td>-2.001603</td>\n",
       "      <td>-2.526743</td>\n",
       "      <td>-1.787501</td>\n",
       "      <td>-2.874714</td>\n",
       "      <td>-1.880346</td>\n",
       "      <td>-1.193676</td>\n",
       "      <td>-2.646903</td>\n",
       "      <td>-3.576790</td>\n",
       "      <td>-2.178030</td>\n",
       "      <td>neutral</td>\n",
       "    </tr>\n",
       "    <tr>\n",
       "      <td>3</td>\n",
       "      <td>-685.237915</td>\n",
       "      <td>56.236691</td>\n",
       "      <td>2.453112</td>\n",
       "      <td>13.566656</td>\n",
       "      <td>6.701949</td>\n",
       "      <td>3.341493</td>\n",
       "      <td>-1.895052</td>\n",
       "      <td>-6.673817</td>\n",
       "      <td>-10.671633</td>\n",
       "      <td>-2.946320</td>\n",
       "      <td>...</td>\n",
       "      <td>-2.010907</td>\n",
       "      <td>-3.006704</td>\n",
       "      <td>-2.649250</td>\n",
       "      <td>-3.361632</td>\n",
       "      <td>-1.357965</td>\n",
       "      <td>-1.057094</td>\n",
       "      <td>-2.373857</td>\n",
       "      <td>-3.516003</td>\n",
       "      <td>-3.311255</td>\n",
       "      <td>neutral</td>\n",
       "    </tr>\n",
       "    <tr>\n",
       "      <td>4</td>\n",
       "      <td>-727.317932</td>\n",
       "      <td>62.764400</td>\n",
       "      <td>2.751275</td>\n",
       "      <td>15.473256</td>\n",
       "      <td>7.763115</td>\n",
       "      <td>2.330714</td>\n",
       "      <td>-3.641682</td>\n",
       "      <td>-3.367344</td>\n",
       "      <td>-10.113078</td>\n",
       "      <td>-4.470085</td>\n",
       "      <td>...</td>\n",
       "      <td>-1.022449</td>\n",
       "      <td>-2.078944</td>\n",
       "      <td>-2.266737</td>\n",
       "      <td>-1.915980</td>\n",
       "      <td>-0.282572</td>\n",
       "      <td>-1.916051</td>\n",
       "      <td>-1.606609</td>\n",
       "      <td>-3.960974</td>\n",
       "      <td>-2.618362</td>\n",
       "      <td>calm</td>\n",
       "    </tr>\n",
       "  </tbody>\n",
       "</table>\n",
       "<p>5 rows × 41 columns</p>\n",
       "</div>"
      ],
      "text/plain": [
       "            0          1         2          3         4         5         6  \\\n",
       "0 -697.984192  55.228489  0.323863  12.775377  7.396148  0.866224 -3.550276   \n",
       "1 -693.069702  55.734570 -1.919739  16.408997  8.449355  0.220736 -1.738342   \n",
       "2 -691.770142  58.350647 -0.165160  13.952126  5.053323  1.489326 -2.397429   \n",
       "3 -685.237915  56.236691  2.453112  13.566656  6.701949  3.341493 -1.895052   \n",
       "4 -727.317932  62.764400  2.751275  15.473256  7.763115  2.330714 -3.641682   \n",
       "\n",
       "          7          8         9  ...        31        32        33        34  \\\n",
       "0 -2.828331 -11.305533 -2.524927  ... -1.967064 -2.855390 -1.703427 -3.328374   \n",
       "1 -4.931291 -11.981820 -0.993780  ... -2.508108 -2.301962 -2.312677 -3.157205   \n",
       "2 -5.059065 -10.638003 -3.344197  ... -2.001603 -2.526743 -1.787501 -2.874714   \n",
       "3 -6.673817 -10.671633 -2.946320  ... -2.010907 -3.006704 -2.649250 -3.361632   \n",
       "4 -3.367344 -10.113078 -4.470085  ... -1.022449 -2.078944 -2.266737 -1.915980   \n",
       "\n",
       "         35        36        37        38        39  Emotions  \n",
       "0 -1.431488 -1.195484 -1.674807 -3.587147 -1.461006   neutral  \n",
       "1 -0.676972 -1.408076 -2.979329 -3.307365 -2.219295   neutral  \n",
       "2 -1.880346 -1.193676 -2.646903 -3.576790 -2.178030   neutral  \n",
       "3 -1.357965 -1.057094 -2.373857 -3.516003 -3.311255   neutral  \n",
       "4 -0.282572 -1.916051 -1.606609 -3.960974 -2.618362      calm  \n",
       "\n",
       "[5 rows x 41 columns]"
      ]
     },
     "execution_count": 5,
     "metadata": {},
     "output_type": "execute_result"
    }
   ],
   "source": [
    "Ravdess_df.Emotions.replace({0:'neutral', 1:'calm', 2:'happy', 3:'sad', 4:'angry', 5:'fear', 6:'disgust', 7:'surprise'}, inplace=True)\n",
    "Ravdess_df.head()"
   ]
  },
  {
   "cell_type": "code",
   "execution_count": 6,
   "metadata": {},
   "outputs": [
    {
     "name": "stdout",
     "output_type": "stream",
     "text": [
      "[[-6.97984192e+02  5.52284889e+01  3.23863089e-01 ... -1.67480683e+00\n",
      "  -3.58714676e+00 -1.46100640e+00]\n",
      " [-6.93069702e+02  5.57345695e+01 -1.91973925e+00 ... -2.97932935e+00\n",
      "  -3.30736542e+00 -2.21929502e+00]\n",
      " [-6.91770142e+02  5.83506470e+01 -1.65160105e-01 ... -2.64690304e+00\n",
      "  -3.57678962e+00 -2.17803001e+00]\n",
      " ...\n",
      " [-5.41550232e+02  3.00866756e+01 -1.84917221e+01 ... -2.29303464e-01\n",
      "  -1.11826110e+00  1.29870504e-01]\n",
      " [-4.92985962e+02  2.44256096e+01 -6.56571770e+00 ...  1.08878422e+00\n",
      "  -1.58995676e+00  1.57479489e+00]\n",
      " [-5.18293823e+02  3.00432606e+01 -4.41440105e+00 ...  3.80374044e-02\n",
      "  -1.99243033e+00  8.42117608e-01]]\n"
     ]
    }
   ],
   "source": [
    "X = Ravdess_df.iloc[: ,:-1].values\n",
    "Y = Ravdess_df['Emotions'].values\n",
    "print(X)"
   ]
  },
  {
   "cell_type": "markdown",
   "metadata": {},
   "source": [
    "### Converting Categorical Variables"
   ]
  },
  {
   "cell_type": "code",
   "execution_count": 7,
   "metadata": {},
   "outputs": [],
   "source": [
    "from sklearn.preprocessing import OneHotEncoder\n",
    "encoder = OneHotEncoder()\n",
    "Y = encoder.fit_transform(np.array(Y).reshape(-1,1)).toarray()"
   ]
  },
  {
   "cell_type": "code",
   "execution_count": 8,
   "metadata": {},
   "outputs": [
    {
     "data": {
      "text/plain": [
       "(2880, 2880)"
      ]
     },
     "execution_count": 8,
     "metadata": {},
     "output_type": "execute_result"
    }
   ],
   "source": [
    "len(X), len(Y)"
   ]
  },
  {
   "cell_type": "markdown",
   "metadata": {},
   "source": [
    "### Splitting Data for Training and Testing"
   ]
  },
  {
   "cell_type": "code",
   "execution_count": 9,
   "metadata": {},
   "outputs": [
    {
     "data": {
      "text/plain": [
       "((2304, 40), (2304, 8), (576, 40), (576, 8))"
      ]
     },
     "execution_count": 9,
     "metadata": {},
     "output_type": "execute_result"
    }
   ],
   "source": [
    "x_train, x_test, y_train, y_test = train_test_split(X, Y, random_state=0,test_size=0.2, shuffle=True)\n",
    "x_train.shape, y_train.shape, x_test.shape, y_test.shape"
   ]
  },
  {
   "cell_type": "code",
   "execution_count": 10,
   "metadata": {},
   "outputs": [
    {
     "data": {
      "text/plain": [
       "((2304, 40), (2304, 8), (576, 40), (576, 8))"
      ]
     },
     "execution_count": 10,
     "metadata": {},
     "output_type": "execute_result"
    }
   ],
   "source": [
    "scaler = StandardScaler()\n",
    "x_train = scaler.fit_transform(x_train)\n",
    "x_test = scaler.transform(x_test)\n",
    "x_train.shape, y_train.shape, x_test.shape, y_test.shape"
   ]
  },
  {
   "cell_type": "code",
   "execution_count": 11,
   "metadata": {},
   "outputs": [
    {
     "data": {
      "text/plain": [
       "((2304, 40, 1), (2304, 8), (576, 40, 1), (576, 8))"
      ]
     },
     "execution_count": 11,
     "metadata": {},
     "output_type": "execute_result"
    }
   ],
   "source": [
    "x_train = np.expand_dims(x_train, axis=2)\n",
    "x_test = np.expand_dims(x_test, axis=2)\n",
    "test_pred = y_test\n",
    "x_train.shape, y_train.shape, x_test.shape, y_test.shape"
   ]
  },
  {
   "cell_type": "markdown",
   "metadata": {},
   "source": [
    "### Building CNN model"
   ]
  },
  {
   "cell_type": "code",
   "execution_count": 12,
   "metadata": {
    "scrolled": true
   },
   "outputs": [
    {
     "name": "stdout",
     "output_type": "stream",
     "text": [
      "Model: \"sequential_1\"\n",
      "_________________________________________________________________\n",
      "Layer (type)                 Output Shape              Param #   \n",
      "=================================================================\n",
      "conv1d_1 (Conv1D)            (None, 40, 256)           1536      \n",
      "_________________________________________________________________\n",
      "max_pooling1d_1 (MaxPooling1 (None, 20, 256)           0         \n",
      "_________________________________________________________________\n",
      "conv1d_2 (Conv1D)            (None, 20, 256)           327936    \n",
      "_________________________________________________________________\n",
      "max_pooling1d_2 (MaxPooling1 (None, 10, 256)           0         \n",
      "_________________________________________________________________\n",
      "conv1d_3 (Conv1D)            (None, 10, 128)           163968    \n",
      "_________________________________________________________________\n",
      "max_pooling1d_3 (MaxPooling1 (None, 5, 128)            0         \n",
      "_________________________________________________________________\n",
      "dropout_1 (Dropout)          (None, 5, 128)            0         \n",
      "_________________________________________________________________\n",
      "conv1d_4 (Conv1D)            (None, 5, 64)             41024     \n",
      "_________________________________________________________________\n",
      "max_pooling1d_4 (MaxPooling1 (None, 3, 64)             0         \n",
      "_________________________________________________________________\n",
      "flatten_1 (Flatten)          (None, 192)               0         \n",
      "_________________________________________________________________\n",
      "dense_1 (Dense)              (None, 32)                6176      \n",
      "_________________________________________________________________\n",
      "dropout_2 (Dropout)          (None, 32)                0         \n",
      "_________________________________________________________________\n",
      "dense_2 (Dense)              (None, 8)                 264       \n",
      "=================================================================\n",
      "Total params: 540,904\n",
      "Trainable params: 540,904\n",
      "Non-trainable params: 0\n",
      "_________________________________________________________________\n"
     ]
    }
   ],
   "source": [
    "model=Sequential()\n",
    "model.add(Conv1D(256, kernel_size=5, strides=1, padding='same', activation='relu', input_shape=(x_train.shape[1], 1)))\n",
    "model.add(MaxPooling1D(pool_size=5, strides = 2, padding = 'same'))\n",
    "\n",
    "model.add(Conv1D(256, kernel_size=5, strides=1, padding='same', activation='relu'))\n",
    "model.add(MaxPooling1D(pool_size=5, strides = 2, padding = 'same'))\n",
    "\n",
    "model.add(Conv1D(128, kernel_size=5, strides=1, padding='same', activation='relu'))\n",
    "model.add(MaxPooling1D(pool_size=5, strides = 2, padding = 'same'))\n",
    "model.add(Dropout(0.2))\n",
    "\n",
    "model.add(Conv1D(64, kernel_size=5, strides=1, padding='same', activation='relu'))\n",
    "model.add(MaxPooling1D(pool_size=5, strides = 2, padding = 'same'))\n",
    "\n",
    "model.add(Flatten())\n",
    "model.add(Dense(units=32, activation='relu'))\n",
    "model.add(Dropout(0.3))\n",
    "\n",
    "model.add(Dense(units=8, activation='softmax'))\n",
    "model.compile(optimizer = 'adam' , loss = 'categorical_crossentropy' , metrics = ['accuracy'])\n",
    "\n",
    "model.summary()"
   ]
  },
  {
   "cell_type": "markdown",
   "metadata": {},
   "source": [
    "### Training Data"
   ]
  },
  {
   "cell_type": "code",
   "execution_count": 13,
   "metadata": {},
   "outputs": [
    {
     "name": "stdout",
     "output_type": "stream",
     "text": [
      "Train on 2304 samples, validate on 576 samples\n",
      "Epoch 1/50\n",
      "2304/2304 [==============================] - ETA: 1:06 - loss: 2.0583 - accuracy: 0.15 - ETA: 8s - loss: 2.0642 - accuracy: 0.1518 - ETA: 3s - loss: 2.0664 - accuracy: 0.16 - ETA: 1s - loss: 2.0567 - accuracy: 0.16 - ETA: 0s - loss: 2.0444 - accuracy: 0.17 - ETA: 0s - loss: 2.0404 - accuracy: 0.18 - 2s 996us/step - loss: 2.0427 - accuracy: 0.1784 - val_loss: 2.0340 - val_accuracy: 0.1753\n",
      "Epoch 2/50\n",
      "2304/2304 [==============================] - ETA: 0s - loss: 2.0294 - accuracy: 0.18 - ETA: 0s - loss: 2.0128 - accuracy: 0.22 - ETA: 0s - loss: 2.0117 - accuracy: 0.20 - ETA: 0s - loss: 2.0145 - accuracy: 0.18 - ETA: 0s - loss: 2.0127 - accuracy: 0.20 - ETA: 0s - loss: 2.0018 - accuracy: 0.20 - 0s 148us/step - loss: 1.9913 - accuracy: 0.2062 - val_loss: 1.9505 - val_accuracy: 0.2378\n",
      "Epoch 3/50\n",
      "2304/2304 [==============================] - ETA: 0s - loss: 1.9136 - accuracy: 0.21 - ETA: 0s - loss: 1.9451 - accuracy: 0.25 - ETA: 0s - loss: 1.9516 - accuracy: 0.23 - ETA: 0s - loss: 1.9437 - accuracy: 0.23 - ETA: 0s - loss: 1.9446 - accuracy: 0.23 - ETA: 0s - loss: 1.9382 - accuracy: 0.24 - 0s 150us/step - loss: 1.9308 - accuracy: 0.2574 - val_loss: 1.9293 - val_accuracy: 0.2448\n",
      "Epoch 4/50\n",
      "2304/2304 [==============================] - ETA: 0s - loss: 1.8778 - accuracy: 0.26 - ETA: 0s - loss: 1.8595 - accuracy: 0.30 - ETA: 0s - loss: 1.8504 - accuracy: 0.29 - ETA: 0s - loss: 1.8432 - accuracy: 0.29 - ETA: 0s - loss: 1.8420 - accuracy: 0.29 - ETA: 0s - loss: 1.8397 - accuracy: 0.29 - 0s 150us/step - loss: 1.8423 - accuracy: 0.2912 - val_loss: 1.8176 - val_accuracy: 0.2899\n",
      "Epoch 5/50\n",
      "2304/2304 [==============================] - ETA: 0s - loss: 1.8322 - accuracy: 0.26 - ETA: 0s - loss: 1.8003 - accuracy: 0.31 - ETA: 0s - loss: 1.7849 - accuracy: 0.32 - ETA: 0s - loss: 1.7780 - accuracy: 0.33 - ETA: 0s - loss: 1.7860 - accuracy: 0.32 - ETA: 0s - loss: 1.7851 - accuracy: 0.32 - 0s 150us/step - loss: 1.7767 - accuracy: 0.3281 - val_loss: 1.7003 - val_accuracy: 0.3073\n",
      "Epoch 6/50\n",
      "2304/2304 [==============================] - ETA: 0s - loss: 1.9188 - accuracy: 0.25 - ETA: 0s - loss: 1.6911 - accuracy: 0.34 - ETA: 0s - loss: 1.6744 - accuracy: 0.35 - ETA: 0s - loss: 1.6894 - accuracy: 0.35 - ETA: 0s - loss: 1.6972 - accuracy: 0.35 - ETA: 0s - loss: 1.6884 - accuracy: 0.36 - 0s 150us/step - loss: 1.6950 - accuracy: 0.3572 - val_loss: 1.7109 - val_accuracy: 0.3247\n",
      "Epoch 7/50\n",
      "2304/2304 [==============================] - ETA: 0s - loss: 1.9511 - accuracy: 0.28 - ETA: 0s - loss: 1.6536 - accuracy: 0.39 - ETA: 0s - loss: 1.6459 - accuracy: 0.38 - ETA: 0s - loss: 1.6343 - accuracy: 0.38 - ETA: 0s - loss: 1.6354 - accuracy: 0.38 - ETA: 0s - loss: 1.6274 - accuracy: 0.38 - 0s 151us/step - loss: 1.6316 - accuracy: 0.3863 - val_loss: 1.6093 - val_accuracy: 0.3872\n",
      "Epoch 8/50\n",
      "2304/2304 [==============================] - ETA: 0s - loss: 1.6229 - accuracy: 0.39 - ETA: 0s - loss: 1.6173 - accuracy: 0.37 - ETA: 0s - loss: 1.5685 - accuracy: 0.40 - ETA: 0s - loss: 1.5513 - accuracy: 0.40 - ETA: 0s - loss: 1.5461 - accuracy: 0.41 - ETA: 0s - loss: 1.5394 - accuracy: 0.41 - 0s 151us/step - loss: 1.5344 - accuracy: 0.4197 - val_loss: 1.4982 - val_accuracy: 0.4097\n",
      "Epoch 9/50\n",
      "2304/2304 [==============================] - ETA: 0s - loss: 1.4520 - accuracy: 0.45 - ETA: 0s - loss: 1.5532 - accuracy: 0.43 - ETA: 0s - loss: 1.5364 - accuracy: 0.41 - ETA: 0s - loss: 1.5415 - accuracy: 0.41 - ETA: 0s - loss: 1.5439 - accuracy: 0.41 - ETA: 0s - loss: 1.5275 - accuracy: 0.42 - 0s 154us/step - loss: 1.5229 - accuracy: 0.4232 - val_loss: 1.4101 - val_accuracy: 0.4618\n",
      "Epoch 10/50\n",
      "2304/2304 [==============================] - ETA: 0s - loss: 1.4372 - accuracy: 0.51 - ETA: 0s - loss: 1.4544 - accuracy: 0.45 - ETA: 0s - loss: 1.4567 - accuracy: 0.45 - ETA: 0s - loss: 1.4137 - accuracy: 0.46 - ETA: 0s - loss: 1.4062 - accuracy: 0.46 - ETA: 0s - loss: 1.4131 - accuracy: 0.46 - 0s 157us/step - loss: 1.4188 - accuracy: 0.4627 - val_loss: 1.3742 - val_accuracy: 0.4705\n",
      "Epoch 11/50\n",
      "2304/2304 [==============================] - ETA: 0s - loss: 1.3013 - accuracy: 0.51 - ETA: 0s - loss: 1.3617 - accuracy: 0.50 - ETA: 0s - loss: 1.3471 - accuracy: 0.50 - ETA: 0s - loss: 1.3265 - accuracy: 0.52 - ETA: 0s - loss: 1.3466 - accuracy: 0.50 - ETA: 0s - loss: 1.3553 - accuracy: 0.49 - ETA: 0s - loss: 1.3580 - accuracy: 0.49 - 0s 172us/step - loss: 1.3597 - accuracy: 0.4965 - val_loss: 1.3786 - val_accuracy: 0.4427\n",
      "Epoch 12/50\n",
      "2304/2304 [==============================] - ETA: 0s - loss: 1.4794 - accuracy: 0.29 - ETA: 0s - loss: 1.3378 - accuracy: 0.47 - ETA: 0s - loss: 1.3286 - accuracy: 0.50 - ETA: 0s - loss: 1.2906 - accuracy: 0.51 - ETA: 0s - loss: 1.2730 - accuracy: 0.51 - ETA: 0s - loss: 1.2879 - accuracy: 0.50 - 0s 150us/step - loss: 1.2898 - accuracy: 0.5087 - val_loss: 1.2871 - val_accuracy: 0.5017\n",
      "Epoch 13/50\n",
      "2304/2304 [==============================] - ETA: 0s - loss: 1.2383 - accuracy: 0.50 - ETA: 0s - loss: 1.2484 - accuracy: 0.54 - ETA: 0s - loss: 1.2028 - accuracy: 0.55 - ETA: 0s - loss: 1.2292 - accuracy: 0.53 - ETA: 0s - loss: 1.2201 - accuracy: 0.54 - ETA: 0s - loss: 1.2067 - accuracy: 0.55 - 0s 151us/step - loss: 1.2059 - accuracy: 0.5577 - val_loss: 1.1596 - val_accuracy: 0.5660\n",
      "Epoch 14/50\n",
      "2304/2304 [==============================] - ETA: 0s - loss: 0.9217 - accuracy: 0.64 - ETA: 0s - loss: 1.0461 - accuracy: 0.57 - ETA: 0s - loss: 1.0708 - accuracy: 0.58 - ETA: 0s - loss: 1.0690 - accuracy: 0.59 - ETA: 0s - loss: 1.0703 - accuracy: 0.60 - ETA: 0s - loss: 1.0780 - accuracy: 0.59 - 0s 150us/step - loss: 1.0848 - accuracy: 0.5933 - val_loss: 1.1162 - val_accuracy: 0.5677\n",
      "Epoch 15/50\n",
      "2304/2304 [==============================] - ETA: 0s - loss: 0.8803 - accuracy: 0.75 - ETA: 0s - loss: 1.0518 - accuracy: 0.63 - ETA: 0s - loss: 1.0738 - accuracy: 0.61 - ETA: 0s - loss: 1.0783 - accuracy: 0.60 - ETA: 0s - loss: 1.0836 - accuracy: 0.60 - ETA: 0s - loss: 1.0836 - accuracy: 0.60 - 0s 151us/step - loss: 1.0906 - accuracy: 0.5998 - val_loss: 1.1197 - val_accuracy: 0.5764\n",
      "Epoch 16/50\n",
      "2304/2304 [==============================] - ETA: 0s - loss: 1.0396 - accuracy: 0.67 - ETA: 0s - loss: 0.9499 - accuracy: 0.65 - ETA: 0s - loss: 0.9735 - accuracy: 0.64 - ETA: 0s - loss: 0.9885 - accuracy: 0.64 - ETA: 0s - loss: 0.9901 - accuracy: 0.64 - ETA: 0s - loss: 1.0084 - accuracy: 0.63 - 0s 152us/step - loss: 1.0169 - accuracy: 0.6376 - val_loss: 1.0717 - val_accuracy: 0.6128\n",
      "Epoch 17/50\n",
      "2304/2304 [==============================] - ETA: 0s - loss: 1.0548 - accuracy: 0.59 - ETA: 0s - loss: 0.9668 - accuracy: 0.64 - ETA: 0s - loss: 0.9286 - accuracy: 0.65 - ETA: 0s - loss: 0.9001 - accuracy: 0.67 - ETA: 0s - loss: 0.9012 - accuracy: 0.67 - ETA: 0s - loss: 0.9034 - accuracy: 0.67 - 0s 149us/step - loss: 0.9148 - accuracy: 0.6636 - val_loss: 0.9964 - val_accuracy: 0.6146\n",
      "Epoch 18/50\n",
      "2304/2304 [==============================] - ETA: 0s - loss: 0.7901 - accuracy: 0.71 - ETA: 0s - loss: 0.7915 - accuracy: 0.73 - ETA: 0s - loss: 0.8010 - accuracy: 0.72 - ETA: 0s - loss: 0.8421 - accuracy: 0.69 - ETA: 0s - loss: 0.8567 - accuracy: 0.68 - ETA: 0s - loss: 0.8631 - accuracy: 0.67 - 0s 151us/step - loss: 0.8641 - accuracy: 0.6775 - val_loss: 0.9555 - val_accuracy: 0.6476\n",
      "Epoch 19/50\n",
      "2304/2304 [==============================] - ETA: 0s - loss: 0.7952 - accuracy: 0.70 - ETA: 0s - loss: 0.6969 - accuracy: 0.74 - ETA: 0s - loss: 0.7466 - accuracy: 0.72 - ETA: 0s - loss: 0.7310 - accuracy: 0.71 - ETA: 0s - loss: 0.7236 - accuracy: 0.72 - ETA: 0s - loss: 0.7445 - accuracy: 0.71 - 0s 151us/step - loss: 0.7483 - accuracy: 0.7205 - val_loss: 0.9836 - val_accuracy: 0.6111\n",
      "Epoch 20/50\n",
      "2304/2304 [==============================] - ETA: 0s - loss: 1.1409 - accuracy: 0.65 - ETA: 0s - loss: 0.7652 - accuracy: 0.72 - ETA: 0s - loss: 0.7769 - accuracy: 0.71 - ETA: 0s - loss: 0.7764 - accuracy: 0.72 - ETA: 0s - loss: 0.7917 - accuracy: 0.72 - ETA: 0s - loss: 0.7824 - accuracy: 0.72 - 0s 151us/step - loss: 0.7658 - accuracy: 0.7339 - val_loss: 0.8965 - val_accuracy: 0.6615\n",
      "Epoch 21/50\n",
      "2304/2304 [==============================] - ETA: 0s - loss: 0.5833 - accuracy: 0.73 - ETA: 0s - loss: 0.6300 - accuracy: 0.75 - ETA: 0s - loss: 0.6351 - accuracy: 0.76 - ETA: 0s - loss: 0.6122 - accuracy: 0.77 - ETA: 0s - loss: 0.6182 - accuracy: 0.76 - ETA: 0s - loss: 0.6266 - accuracy: 0.76 - 0s 149us/step - loss: 0.6351 - accuracy: 0.7635 - val_loss: 0.7571 - val_accuracy: 0.7378\n",
      "Epoch 22/50\n",
      "2304/2304 [==============================] - ETA: 0s - loss: 0.5805 - accuracy: 0.76 - ETA: 0s - loss: 0.6052 - accuracy: 0.76 - ETA: 0s - loss: 0.5494 - accuracy: 0.78 - ETA: 0s - loss: 0.5391 - accuracy: 0.79 - ETA: 0s - loss: 0.5501 - accuracy: 0.79 - ETA: 0s - loss: 0.5533 - accuracy: 0.79 - 0s 151us/step - loss: 0.5536 - accuracy: 0.7947 - val_loss: 0.7761 - val_accuracy: 0.7517\n",
      "Epoch 23/50\n",
      "2304/2304 [==============================] - ETA: 0s - loss: 0.3774 - accuracy: 0.89 - ETA: 0s - loss: 0.5465 - accuracy: 0.82 - ETA: 0s - loss: 0.5299 - accuracy: 0.81 - ETA: 0s - loss: 0.5226 - accuracy: 0.81 - ETA: 0s - loss: 0.5238 - accuracy: 0.81 - ETA: 0s - loss: 0.5167 - accuracy: 0.81 - 0s 147us/step - loss: 0.5054 - accuracy: 0.8147 - val_loss: 0.7259 - val_accuracy: 0.7604\n",
      "Epoch 24/50\n",
      "2304/2304 [==============================] - ETA: 0s - loss: 0.4412 - accuracy: 0.81 - ETA: 0s - loss: 0.4133 - accuracy: 0.85 - ETA: 0s - loss: 0.4451 - accuracy: 0.84 - ETA: 0s - loss: 0.4547 - accuracy: 0.84 - ETA: 0s - loss: 0.4555 - accuracy: 0.82 - ETA: 0s - loss: 0.4558 - accuracy: 0.82 - 0s 147us/step - loss: 0.4507 - accuracy: 0.8299 - val_loss: 0.6911 - val_accuracy: 0.7847\n",
      "Epoch 25/50\n",
      "2304/2304 [==============================] - ETA: 0s - loss: 0.5791 - accuracy: 0.78 - ETA: 0s - loss: 0.4342 - accuracy: 0.83 - ETA: 0s - loss: 0.4222 - accuracy: 0.84 - ETA: 0s - loss: 0.4348 - accuracy: 0.83 - ETA: 0s - loss: 0.4438 - accuracy: 0.83 - ETA: 0s - loss: 0.4603 - accuracy: 0.83 - 0s 148us/step - loss: 0.4719 - accuracy: 0.8299 - val_loss: 0.8035 - val_accuracy: 0.7378\n",
      "Epoch 26/50\n",
      "2304/2304 [==============================] - ETA: 0s - loss: 0.4724 - accuracy: 0.84 - ETA: 0s - loss: 0.5165 - accuracy: 0.80 - ETA: 0s - loss: 0.5090 - accuracy: 0.81 - ETA: 0s - loss: 0.5058 - accuracy: 0.80 - ETA: 0s - loss: 0.4898 - accuracy: 0.81 - ETA: 0s - loss: 0.4794 - accuracy: 0.82 - 0s 146us/step - loss: 0.4728 - accuracy: 0.8294 - val_loss: 0.6671 - val_accuracy: 0.7969\n",
      "Epoch 27/50\n",
      "2304/2304 [==============================] - ETA: 0s - loss: 0.4506 - accuracy: 0.82 - ETA: 0s - loss: 0.3422 - accuracy: 0.89 - ETA: 0s - loss: 0.3223 - accuracy: 0.90 - ETA: 0s - loss: 0.3219 - accuracy: 0.89 - ETA: 0s - loss: 0.3175 - accuracy: 0.89 - ETA: 0s - loss: 0.3169 - accuracy: 0.89 - 0s 148us/step - loss: 0.3106 - accuracy: 0.8941 - val_loss: 0.5620 - val_accuracy: 0.8455\n",
      "Epoch 28/50\n",
      "2304/2304 [==============================] - ETA: 0s - loss: 0.2882 - accuracy: 0.90 - ETA: 0s - loss: 0.2600 - accuracy: 0.90 - ETA: 0s - loss: 0.2720 - accuracy: 0.89 - ETA: 0s - loss: 0.2528 - accuracy: 0.91 - ETA: 0s - loss: 0.2458 - accuracy: 0.91 - ETA: 0s - loss: 0.2505 - accuracy: 0.91 - 0s 148us/step - loss: 0.2501 - accuracy: 0.9123 - val_loss: 0.5429 - val_accuracy: 0.8490\n",
      "Epoch 29/50\n",
      "2304/2304 [==============================] - ETA: 0s - loss: 0.1638 - accuracy: 0.93 - ETA: 0s - loss: 0.1920 - accuracy: 0.93 - ETA: 0s - loss: 0.2265 - accuracy: 0.92 - ETA: 0s - loss: 0.2179 - accuracy: 0.93 - ETA: 0s - loss: 0.2123 - accuracy: 0.93 - ETA: 0s - loss: 0.2110 - accuracy: 0.93 - 0s 150us/step - loss: 0.2118 - accuracy: 0.9323 - val_loss: 0.5592 - val_accuracy: 0.8611\n",
      "Epoch 30/50\n",
      "2304/2304 [==============================] - ETA: 0s - loss: 0.2210 - accuracy: 0.92 - ETA: 0s - loss: 0.2046 - accuracy: 0.93 - ETA: 0s - loss: 0.2085 - accuracy: 0.93 - ETA: 0s - loss: 0.2066 - accuracy: 0.93 - ETA: 0s - loss: 0.2073 - accuracy: 0.93 - ETA: 0s - loss: 0.2060 - accuracy: 0.93 - 0s 147us/step - loss: 0.2046 - accuracy: 0.9340 - val_loss: 0.5376 - val_accuracy: 0.8854\n",
      "Epoch 31/50\n",
      "2304/2304 [==============================] - ETA: 0s - loss: 0.1431 - accuracy: 0.93 - ETA: 0s - loss: 0.1846 - accuracy: 0.93 - ETA: 0s - loss: 0.1857 - accuracy: 0.93 - ETA: 0s - loss: 0.1851 - accuracy: 0.93 - ETA: 0s - loss: 0.1940 - accuracy: 0.93 - ETA: 0s - loss: 0.1901 - accuracy: 0.93 - 0s 149us/step - loss: 0.1888 - accuracy: 0.9371 - val_loss: 0.5123 - val_accuracy: 0.8819\n",
      "Epoch 32/50\n",
      "2304/2304 [==============================] - ETA: 0s - loss: 0.1310 - accuracy: 0.93 - ETA: 0s - loss: 0.1473 - accuracy: 0.95 - ETA: 0s - loss: 0.1613 - accuracy: 0.94 - ETA: 0s - loss: 0.1750 - accuracy: 0.94 - ETA: 0s - loss: 0.1809 - accuracy: 0.94 - ETA: 0s - loss: 0.1859 - accuracy: 0.93 - 0s 147us/step - loss: 0.1871 - accuracy: 0.9371 - val_loss: 0.4966 - val_accuracy: 0.8993\n",
      "Epoch 33/50\n",
      "2304/2304 [==============================] - ETA: 0s - loss: 0.1260 - accuracy: 0.96 - ETA: 0s - loss: 0.1267 - accuracy: 0.96 - ETA: 0s - loss: 0.1403 - accuracy: 0.96 - ETA: 0s - loss: 0.1403 - accuracy: 0.96 - ETA: 0s - loss: 0.1429 - accuracy: 0.96 - ETA: 0s - loss: 0.1487 - accuracy: 0.95 - 0s 147us/step - loss: 0.1533 - accuracy: 0.9557 - val_loss: 0.5142 - val_accuracy: 0.8854\n",
      "Epoch 34/50\n",
      "2304/2304 [==============================] - ETA: 0s - loss: 0.1547 - accuracy: 0.90 - ETA: 0s - loss: 0.1135 - accuracy: 0.96 - ETA: 0s - loss: 0.1398 - accuracy: 0.95 - ETA: 0s - loss: 0.1524 - accuracy: 0.94 - ETA: 0s - loss: 0.1610 - accuracy: 0.94 - ETA: 0s - loss: 0.1647 - accuracy: 0.94 - 0s 149us/step - loss: 0.1638 - accuracy: 0.9444 - val_loss: 0.5154 - val_accuracy: 0.8993\n",
      "Epoch 35/50\n",
      "2304/2304 [==============================] - ETA: 0s - loss: 0.0559 - accuracy: 1.00 - ETA: 0s - loss: 0.1462 - accuracy: 0.95 - ETA: 0s - loss: 0.1505 - accuracy: 0.94 - ETA: 0s - loss: 0.1510 - accuracy: 0.94 - ETA: 0s - loss: 0.1532 - accuracy: 0.95 - ETA: 0s - loss: 0.1505 - accuracy: 0.95 - 0s 148us/step - loss: 0.1464 - accuracy: 0.9531 - val_loss: 0.4936 - val_accuracy: 0.9028\n",
      "Epoch 36/50\n",
      "2304/2304 [==============================] - ETA: 0s - loss: 0.2901 - accuracy: 0.87 - ETA: 0s - loss: 0.1528 - accuracy: 0.95 - ETA: 0s - loss: 0.1497 - accuracy: 0.95 - ETA: 0s - loss: 0.1421 - accuracy: 0.95 - ETA: 0s - loss: 0.1439 - accuracy: 0.95 - ETA: 0s - loss: 0.1403 - accuracy: 0.95 - 0s 147us/step - loss: 0.1406 - accuracy: 0.9583 - val_loss: 0.4945 - val_accuracy: 0.9080\n",
      "Epoch 37/50\n",
      "2304/2304 [==============================] - ETA: 0s - loss: 0.0736 - accuracy: 1.00 - ETA: 0s - loss: 0.1238 - accuracy: 0.96 - ETA: 0s - loss: 0.1413 - accuracy: 0.95 - ETA: 0s - loss: 0.1364 - accuracy: 0.95 - ETA: 0s - loss: 0.1304 - accuracy: 0.95 - ETA: 0s - loss: 0.1322 - accuracy: 0.95 - 0s 149us/step - loss: 0.1320 - accuracy: 0.9570 - val_loss: 0.4952 - val_accuracy: 0.9080\n",
      "Epoch 38/50\n",
      "2304/2304 [==============================] - ETA: 0s - loss: 0.1563 - accuracy: 0.93 - ETA: 0s - loss: 0.1219 - accuracy: 0.96 - ETA: 0s - loss: 0.1226 - accuracy: 0.96 - ETA: 0s - loss: 0.1153 - accuracy: 0.96 - ETA: 0s - loss: 0.1146 - accuracy: 0.96 - ETA: 0s - loss: 0.1162 - accuracy: 0.96 - 0s 149us/step - loss: 0.1166 - accuracy: 0.9622 - val_loss: 0.5387 - val_accuracy: 0.9062\n",
      "Epoch 39/50\n",
      "2304/2304 [==============================] - ETA: 0s - loss: 0.1270 - accuracy: 0.95 - ETA: 0s - loss: 0.1031 - accuracy: 0.97 - ETA: 0s - loss: 0.1201 - accuracy: 0.96 - ETA: 0s - loss: 0.1232 - accuracy: 0.95 - ETA: 0s - loss: 0.1174 - accuracy: 0.96 - ETA: 0s - loss: 0.1182 - accuracy: 0.96 - 0s 145us/step - loss: 0.1162 - accuracy: 0.9609 - val_loss: 0.5336 - val_accuracy: 0.9062\n",
      "Epoch 40/50\n",
      "2304/2304 [==============================] - ETA: 0s - loss: 0.0446 - accuracy: 1.00 - ETA: 0s - loss: 0.0899 - accuracy: 0.97 - ETA: 0s - loss: 0.1051 - accuracy: 0.97 - ETA: 0s - loss: 0.1052 - accuracy: 0.96 - ETA: 0s - loss: 0.1128 - accuracy: 0.96 - ETA: 0s - loss: 0.1149 - accuracy: 0.96 - 0s 149us/step - loss: 0.1116 - accuracy: 0.9674 - val_loss: 0.4982 - val_accuracy: 0.9080\n",
      "Epoch 41/50\n",
      "2304/2304 [==============================] - ETA: 0s - loss: 0.0541 - accuracy: 1.00 - ETA: 0s - loss: 0.1115 - accuracy: 0.96 - ETA: 0s - loss: 0.1096 - accuracy: 0.96 - ETA: 0s - loss: 0.1066 - accuracy: 0.96 - ETA: 0s - loss: 0.1138 - accuracy: 0.96 - ETA: 0s - loss: 0.1121 - accuracy: 0.96 - 0s 148us/step - loss: 0.1090 - accuracy: 0.9657 - val_loss: 0.5148 - val_accuracy: 0.9167\n",
      "Epoch 42/50\n",
      "2304/2304 [==============================] - ETA: 0s - loss: 0.1806 - accuracy: 0.93 - ETA: 0s - loss: 0.1165 - accuracy: 0.96 - ETA: 0s - loss: 0.1008 - accuracy: 0.96 - ETA: 0s - loss: 0.1040 - accuracy: 0.96 - ETA: 0s - loss: 0.1008 - accuracy: 0.96 - ETA: 0s - loss: 0.1003 - accuracy: 0.96 - 0s 147us/step - loss: 0.1014 - accuracy: 0.9696 - val_loss: 0.5261 - val_accuracy: 0.9010\n",
      "Epoch 43/50\n",
      "2304/2304 [==============================] - ETA: 0s - loss: 0.0543 - accuracy: 0.98 - ETA: 0s - loss: 0.0764 - accuracy: 0.97 - ETA: 0s - loss: 0.0817 - accuracy: 0.96 - ETA: 0s - loss: 0.0820 - accuracy: 0.97 - ETA: 0s - loss: 0.0833 - accuracy: 0.97 - ETA: 0s - loss: 0.0875 - accuracy: 0.97 - 0s 149us/step - loss: 0.0882 - accuracy: 0.9727 - val_loss: 0.5190 - val_accuracy: 0.9045\n",
      "Epoch 44/50\n",
      "2304/2304 [==============================] - ETA: 0s - loss: 0.0645 - accuracy: 0.96 - ETA: 0s - loss: 0.0669 - accuracy: 0.98 - ETA: 0s - loss: 0.0750 - accuracy: 0.98 - ETA: 0s - loss: 0.0838 - accuracy: 0.97 - ETA: 0s - loss: 0.0843 - accuracy: 0.97 - ETA: 0s - loss: 0.0828 - accuracy: 0.97 - 0s 147us/step - loss: 0.0825 - accuracy: 0.9753 - val_loss: 0.5158 - val_accuracy: 0.9062\n",
      "Epoch 45/50\n",
      "2304/2304 [==============================] - ETA: 0s - loss: 0.0509 - accuracy: 1.00 - ETA: 0s - loss: 0.0767 - accuracy: 0.97 - ETA: 0s - loss: 0.0774 - accuracy: 0.97 - ETA: 0s - loss: 0.0747 - accuracy: 0.97 - ETA: 0s - loss: 0.0746 - accuracy: 0.97 - ETA: 0s - loss: 0.0748 - accuracy: 0.97 - 0s 148us/step - loss: 0.0734 - accuracy: 0.9774 - val_loss: 0.5134 - val_accuracy: 0.9097\n",
      "Epoch 46/50\n",
      "2304/2304 [==============================] - ETA: 0s - loss: 0.1022 - accuracy: 0.96 - ETA: 0s - loss: 0.0846 - accuracy: 0.97 - ETA: 0s - loss: 0.0771 - accuracy: 0.97 - ETA: 0s - loss: 0.0819 - accuracy: 0.96 - ETA: 0s - loss: 0.0856 - accuracy: 0.97 - ETA: 0s - loss: 0.0902 - accuracy: 0.96 - 0s 148us/step - loss: 0.0889 - accuracy: 0.9679 - val_loss: 0.5522 - val_accuracy: 0.9028\n",
      "Epoch 47/50\n",
      "2304/2304 [==============================] - ETA: 0s - loss: 0.0803 - accuracy: 0.96 - ETA: 0s - loss: 0.0782 - accuracy: 0.97 - ETA: 0s - loss: 0.0814 - accuracy: 0.97 - ETA: 0s - loss: 0.0802 - accuracy: 0.97 - ETA: 0s - loss: 0.0748 - accuracy: 0.98 - ETA: 0s - loss: 0.0754 - accuracy: 0.97 - 0s 148us/step - loss: 0.0747 - accuracy: 0.9796 - val_loss: 0.4974 - val_accuracy: 0.9010\n",
      "Epoch 48/50\n",
      "2304/2304 [==============================] - ETA: 0s - loss: 0.0720 - accuracy: 0.96 - ETA: 0s - loss: 0.0688 - accuracy: 0.97 - ETA: 0s - loss: 0.0686 - accuracy: 0.97 - ETA: 0s - loss: 0.0629 - accuracy: 0.98 - ETA: 0s - loss: 0.0679 - accuracy: 0.98 - ETA: 0s - loss: 0.0671 - accuracy: 0.98 - 0s 147us/step - loss: 0.0667 - accuracy: 0.9826 - val_loss: 0.4684 - val_accuracy: 0.9167\n",
      "Epoch 49/50\n",
      "2304/2304 [==============================] - ETA: 0s - loss: 0.0862 - accuracy: 0.98 - ETA: 0s - loss: 0.0730 - accuracy: 0.97 - ETA: 0s - loss: 0.0599 - accuracy: 0.98 - ETA: 0s - loss: 0.0648 - accuracy: 0.97 - ETA: 0s - loss: 0.0643 - accuracy: 0.97 - ETA: 0s - loss: 0.0625 - accuracy: 0.98 - 0s 150us/step - loss: 0.0622 - accuracy: 0.9809 - val_loss: 0.5057 - val_accuracy: 0.9167\n",
      "Epoch 50/50\n",
      "2304/2304 [==============================] - ETA: 0s - loss: 0.0365 - accuracy: 1.00 - ETA: 0s - loss: 0.0517 - accuracy: 0.98 - ETA: 0s - loss: 0.0471 - accuracy: 0.98 - ETA: 0s - loss: 0.0480 - accuracy: 0.98 - ETA: 0s - loss: 0.0530 - accuracy: 0.98 - ETA: 0s - loss: 0.0502 - accuracy: 0.98 - 0s 148us/step - loss: 0.0518 - accuracy: 0.9865 - val_loss: 0.5298 - val_accuracy: 0.9201\n"
     ]
    }
   ],
   "source": [
    "rlrp = ReduceLROnPlateau(monitor='loss', factor=0.4, verbose=0, patience=2, min_lr=0.0000001)\n",
    "history=model.fit(x_train, y_train, batch_size=64, epochs=50, validation_data=(x_test, y_test), callbacks=[rlrp])"
   ]
  },
  {
   "cell_type": "markdown",
   "metadata": {},
   "source": [
    "### Finding Accuracy"
   ]
  },
  {
   "cell_type": "code",
   "execution_count": 14,
   "metadata": {},
   "outputs": [
    {
     "name": "stdout",
     "output_type": "stream",
     "text": [
      "576/576 [==============================] - ETA:  - 0s 289us/step\n",
      "Accuracy of our model on test data :  92.01388955116272 %\n"
     ]
    },
    {
     "data": {
      "image/png": "[encoded data removed]",
      "text/plain": [
       "<Figure size 1440x432 with 2 Axes>"
      ]
     },
     "metadata": {
      "needs_background": "light"
     },
     "output_type": "display_data"
    }
   ],
   "source": [
    "print(\"Accuracy of our model on test data : \" , model.evaluate(x_test,test_pred)[1]*100 , \"%\")\n",
    "\n",
    "epochs = [i for i in range(50)]\n",
    "fig , ax = plt.subplots(1,2)\n",
    "train_acc = history.history['accuracy']\n",
    "train_loss = history.history['loss']\n",
    "test_acc = history.history['val_accuracy']\n",
    "test_loss = history.history['val_loss']\n",
    "\n",
    "fig.set_size_inches(20,6)\n",
    "ax[0].plot(epochs , train_loss , label = 'Training Loss')\n",
    "ax[0].plot(epochs , test_loss , label = 'Testing Loss')\n",
    "ax[0].set_title('Training & Testing Loss')\n",
    "ax[0].legend()\n",
    "ax[0].set_xlabel(\"Epochs\")\n",
    "\n",
    "ax[1].plot(epochs , train_acc , label = 'Training Accuracy')\n",
    "ax[1].plot(epochs , test_acc , label = 'Testing Accuracy')\n",
    "ax[1].set_title('Training & Testing Accuracy')\n",
    "ax[1].legend()\n",
    "ax[1].set_xlabel(\"Epochs\")\n",
    "plt.show()"
   ]
  },
  {
   "cell_type": "code",
   "execution_count": 15,
   "metadata": {},
   "outputs": [
    {
     "name": "stdout",
     "output_type": "stream",
     "text": [
      "Accuracy of our model on training data : \n",
      "2304/2304 [==============================] - ETA:  - ETA:  - ETA:  - ETA:  - ETA:  - 0s 96us/step\n"
     ]
    },
    {
     "data": {
      "text/plain": [
       "100.0"
      ]
     },
     "execution_count": 15,
     "metadata": {},
     "output_type": "execute_result"
    }
   ],
   "source": [
    "print(\"Accuracy of our model on training data : \")\n",
    "model.evaluate(x_train,y_train)[1]*100"
   ]
  },
  {
   "cell_type": "code",
   "execution_count": 16,
   "metadata": {},
   "outputs": [
    {
     "name": "stdout",
     "output_type": "stream",
     "text": [
      "Accuracy of our model on training data : \n",
      "576/576 [==============================] - ETA:  - 0s 92us/step\n"
     ]
    },
    {
     "data": {
      "text/plain": [
       "92.01388955116272"
      ]
     },
     "execution_count": 16,
     "metadata": {},
     "output_type": "execute_result"
    }
   ],
   "source": [
    "print(\"Accuracy of our model on test data : \")\n",
    "model.evaluate(x_test,y_test)[1]*100"
   ]
  },
  {
   "cell_type": "markdown",
   "metadata": {},
   "source": [
    "### Building Confusion Matrix and Classification Report"
   ]
  },
  {
   "cell_type": "code",
   "execution_count": 17,
   "metadata": {},
   "outputs": [],
   "source": [
    "pred_test = model.predict(x_test)\n",
    "y_pred = encoder.inverse_transform(pred_test)\n",
    "\n",
    "y_test = encoder.inverse_transform(y_test)"
   ]
  },
  {
   "cell_type": "code",
   "execution_count": 18,
   "metadata": {},
   "outputs": [
    {
     "data": {
      "text/html": [
       "<div>\n",
       "<style scoped>\n",
       "    .dataframe tbody tr th:only-of-type {\n",
       "        vertical-align: middle;\n",
       "    }\n",
       "\n",
       "    .dataframe tbody tr th {\n",
       "        vertical-align: top;\n",
       "    }\n",
       "\n",
       "    .dataframe thead th {\n",
       "        text-align: right;\n",
       "    }\n",
       "</style>\n",
       "<table border=\"1\" class=\"dataframe\">\n",
       "  <thead>\n",
       "    <tr style=\"text-align: right;\">\n",
       "      <th></th>\n",
       "      <th>Predicted Labels</th>\n",
       "      <th>Actual Labels</th>\n",
       "    </tr>\n",
       "  </thead>\n",
       "  <tbody>\n",
       "    <tr>\n",
       "      <td>0</td>\n",
       "      <td>angry</td>\n",
       "      <td>angry</td>\n",
       "    </tr>\n",
       "    <tr>\n",
       "      <td>1</td>\n",
       "      <td>angry</td>\n",
       "      <td>angry</td>\n",
       "    </tr>\n",
       "    <tr>\n",
       "      <td>2</td>\n",
       "      <td>calm</td>\n",
       "      <td>sad</td>\n",
       "    </tr>\n",
       "    <tr>\n",
       "      <td>3</td>\n",
       "      <td>calm</td>\n",
       "      <td>calm</td>\n",
       "    </tr>\n",
       "    <tr>\n",
       "      <td>4</td>\n",
       "      <td>neutral</td>\n",
       "      <td>neutral</td>\n",
       "    </tr>\n",
       "    <tr>\n",
       "      <td>5</td>\n",
       "      <td>calm</td>\n",
       "      <td>sad</td>\n",
       "    </tr>\n",
       "    <tr>\n",
       "      <td>6</td>\n",
       "      <td>disgust</td>\n",
       "      <td>disgust</td>\n",
       "    </tr>\n",
       "    <tr>\n",
       "      <td>7</td>\n",
       "      <td>happy</td>\n",
       "      <td>happy</td>\n",
       "    </tr>\n",
       "    <tr>\n",
       "      <td>8</td>\n",
       "      <td>neutral</td>\n",
       "      <td>neutral</td>\n",
       "    </tr>\n",
       "    <tr>\n",
       "      <td>9</td>\n",
       "      <td>angry</td>\n",
       "      <td>angry</td>\n",
       "    </tr>\n",
       "  </tbody>\n",
       "</table>\n",
       "</div>"
      ],
      "text/plain": [
       "  Predicted Labels Actual Labels\n",
       "0            angry         angry\n",
       "1            angry         angry\n",
       "2             calm           sad\n",
       "3             calm          calm\n",
       "4          neutral       neutral\n",
       "5             calm           sad\n",
       "6          disgust       disgust\n",
       "7            happy         happy\n",
       "8          neutral       neutral\n",
       "9            angry         angry"
      ]
     },
     "execution_count": 18,
     "metadata": {},
     "output_type": "execute_result"
    }
   ],
   "source": [
    "df = pd.DataFrame(columns=['Predicted Labels', 'Actual Labels'])\n",
    "df['Predicted Labels'] = y_pred.flatten()\n",
    "df['Actual Labels'] = y_test.flatten()\n",
    "\n",
    "df.head(10)"
   ]
  },
  {
   "cell_type": "code",
   "execution_count": 19,
   "metadata": {},
   "outputs": [
    {
     "data": {
      "image/png": "[encoded data removed]",
      "text/plain": [
       "<Figure size 864x720 with 2 Axes>"
      ]
     },
     "metadata": {
      "needs_background": "light"
     },
     "output_type": "display_data"
    }
   ],
   "source": [
    "cm = confusion_matrix(y_test, y_pred)\n",
    "plt.figure(figsize = (12, 10))\n",
    "cm = pd.DataFrame(cm , index = [i for i in encoder.categories_] , columns = [i for i in encoder.categories_])\n",
    "sns.heatmap(cm, linecolor='white', cmap='Blues', linewidth=1, annot=True, fmt='')\n",
    "plt.title('Confusion Matrix', size=20)\n",
    "plt.xlabel('Predicted Labels', size=14)\n",
    "plt.ylabel('Actual Labels', size=14)\n",
    "plt.show()\n"
   ]
  },
  {
   "cell_type": "code",
   "execution_count": 20,
   "metadata": {},
   "outputs": [
    {
     "name": "stdout",
     "output_type": "stream",
     "text": [
      "              precision    recall  f1-score   support\n",
      "\n",
      "       angry       1.00      0.92      0.96        78\n",
      "        calm       0.90      0.95      0.92        78\n",
      "     disgust       0.86      0.94      0.90        68\n",
      "        fear       0.84      0.94      0.88        65\n",
      "       happy       0.95      0.95      0.95        78\n",
      "     neutral       0.85      0.92      0.88        48\n",
      "         sad       0.97      0.84      0.90        90\n",
      "    surprise       0.97      0.92      0.94        71\n",
      "\n",
      "    accuracy                           0.92       576\n",
      "   macro avg       0.92      0.92      0.92       576\n",
      "weighted avg       0.92      0.92      0.92       576\n",
      "\n"
     ]
    }
   ],
   "source": [
    "print(classification_report(y_test, y_pred))\n"
   ]
  },
  {
   "cell_type": "markdown",
   "metadata": {},
   "source": [
    "### Saving Model"
   ]
  },
  {
   "cell_type": "code",
   "execution_count": 21,
   "metadata": {},
   "outputs": [],
   "source": [
    "from keras.models import load_model\n",
    "from keras.models import model_from_json\n",
    "model_json = model.to_json()\n",
    "with open(\"model_CNN.json\", \"w\") as json_file:\n",
    "    json_file.write(model_json)"
   ]
  },
  {
   "cell_type": "code",
   "execution_count": 22,
   "metadata": {},
   "outputs": [],
   "source": [
    "model.save_weights(\"model_LSTM.h5\")"
   ]
  }
 ],
 "metadata": {
  "kernelspec": {
   "display_name": "Python 3",
   "language": "python",
   "name": "python3"
  },
  "language_info": {
   "codemirror_mode": {
    "name": "ipython",
    "version": 3
   },
   "file_extension": ".py",
   "mimetype": "text/x-python",
   "name": "python",
   "nbconvert_exporter": "python",
   "pygments_lexer": "ipython3",
   "version": "3.7.4"
  }
 },
 "nbformat": 4,
 "nbformat_minor": 2
}
